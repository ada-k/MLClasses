{
 "cells": [
  {
   "cell_type": "markdown",
   "metadata": {},
   "source": [
    "## OOP\n",
    "A programming paradigm that provides a means of structuring programs so that properties and behaviors are bundled into individual objects.\n",
    "\n",
    "Pros:\n",
    "* code modularisation thus ease in troubleshooting.\n",
    "* reuse of code through inheritance.\n",
    "* flexibility through polymorphism (multiple usage)."
   ]
  },
  {
   "cell_type": "markdown",
   "metadata": {},
   "source": [
    "### 1. Class Definition\n",
    "\n",
    "> Classes define functions called methods, which identify the behaviors and actions that an object created from the class can perform with its data."
   ]
  },
  {
   "cell_type": "code",
   "execution_count": 135,
   "metadata": {},
   "outputs": [],
   "source": [
    "# function definition\n",
    "def fix_laptop(harddisk, money):\n",
    "    # check if laptop is ok\n",
    "    if 'not' in harddisk:\n",
    "        print('Laptop has a problem')\n",
    "    else:\n",
    "        print('Laptop is OK')\n",
    "        code modularisation thus ease in troubleshooting.\n",
    "    # fix it kama iko na issue\n",
    "    if money == 'yes':\n",
    "        return 'DJ can get his laptop fixed'\n",
    "    else:\n",
    "        return 'DJ is fucked'"
   ]
  },
  {
   "cell_type": "code",
   "execution_count": 186,
   "metadata": {},
   "outputs": [],
   "source": [
    "# class definition\n",
    "class Kisauni():\n",
    "    \n",
    "    # attributes\n",
    "    \n",
    "    # class attributes\n",
    "    security = 'mateja everywhere'\n",
    "    ethnicity = 'waswahili'\n",
    "    \n",
    "    # instance attributes // dunder methods\n",
    "    def __init__(self, mtaa, drainage_system, housing_style):\n",
    "        self.mtaa = mtaa\n",
    "        self.drainage_system = drainage_system\n",
    "        self.housing_style = housing_style    \n",
    "        \n",
    "    def __str__(self):\n",
    "        return 'A class indicating conditions in Kisauni'\n",
    "    \n",
    "    # instance methods (customised functions)\n",
    "    def students(self, status, name, age, campus):\n",
    "        if 'yes' in status.lower():\n",
    "            return f'{name} is a {age} year old at The {campus}'\n",
    "        else:\n",
    "            return f'{name} is a {age} year old non student'\n",
    "            \n",
    "    def relationships(self,status, name, sex):\n",
    "        if 'YES'in status.upper():\n",
    "            return f'{name} is a {sex}'\n",
    "        else:\n",
    "            return f'{name} is a bi'\n",
    "    def rehabilitations(self,status,name,age):\n",
    "        if 'yes' in status.lower():\n",
    "\n",
    "            return f'{name}is a {age} must go to rehab.'\n",
    "        else:\n",
    "\n",
    "            return f'{name} is a {age} no rehab.'\n"
   ]
  },
  {
   "cell_type": "code",
   "execution_count": 190,
   "metadata": {},
   "outputs": [],
   "source": [
    "# inheritance ( - overriding; - extending)\n",
    "class Birds():\n",
    "    \n",
    "    def flight(self):\n",
    "        return 'ALmost all birds can fly'\n",
    "    \n",
    "    def edibility(self):\n",
    "        return 'almost all birds are edible'"
   ]
  },
  {
   "cell_type": "code",
   "execution_count": 199,
   "metadata": {},
   "outputs": [],
   "source": [
    "class Chicken(Birds):\n",
    "    \n",
    "    def flight(self):\n",
    "        print('chicken cannot fly')\n",
    "    \n",
    "    def food(self):\n",
    "        return 'chicken feed on mash'"
   ]
  },
  {
   "cell_type": "code",
   "execution_count": null,
   "metadata": {},
   "outputs": [],
   "source": []
  },
  {
   "cell_type": "code",
   "execution_count": null,
   "metadata": {},
   "outputs": [],
   "source": []
  },
  {
   "cell_type": "code",
   "execution_count": null,
   "metadata": {},
   "outputs": [],
   "source": []
  },
  {
   "cell_type": "code",
   "execution_count": null,
   "metadata": {},
   "outputs": [],
   "source": []
  },
  {
   "cell_type": "code",
   "execution_count": null,
   "metadata": {},
   "outputs": [],
   "source": []
  },
  {
   "cell_type": "code",
   "execution_count": null,
   "metadata": {},
   "outputs": [],
   "source": []
  },
  {
   "cell_type": "code",
   "execution_count": 1,
   "metadata": {},
   "outputs": [],
   "source": [
    "class Student:\n",
    "    \n",
    "    # class attributes (uniform for all class objects)\n",
    "    campus = 'Technical University of Munich'\n",
    "    \n",
    "    ## dunder methods\n",
    "    ''' universal properties (instance attributes - not necessarily uniform for all objects) \n",
    "    - arguments must be supplied when calling the class '''\n",
    "    def __init__(self, name, age, level, academic_year):\n",
    "        self.name = name\n",
    "        self.age = age\n",
    "        self.level = level\n",
    "        self.academic_year = academic_year\n",
    "        \n",
    "    ''' Class descriptor'''\n",
    "    def __str__(self):\n",
    "        return f\" This is a Student class with methods: course, year and location.\"\n",
    "\n",
    "    ## Instance Methods   \n",
    "    '''- begine with a self, and can only be called from an instance of the class '''\n",
    "    # course\n",
    "    def course(self, course_name):\n",
    "        return f\"{self.name} is pursuing a {self.level} in {course_name} at the {self.campus}\"\n",
    "    \n",
    "    # year\n",
    "    def year(self, year, gender):\n",
    "        if 'f' in gender.lower():\n",
    "            return f\" She is a {self.age} year old currently in her {year} year.\"\n",
    "        else:\n",
    "            return f\" He is a {self.age} year old currently in his {year} year.\"\n",
    "    \n",
    "    # location\n",
    "    def location(self, location):\n",
    "        return f\" Residing in {location}\"\n",
    "    \n",
    "    #race\n",
    "    def race(self, race):\n",
    "        pass"
   ]
  },
  {
   "cell_type": "code",
   "execution_count": 124,
   "metadata": {},
   "outputs": [
    {
     "data": {
      "text/plain": [
       "'ola is pursuing a PhD in MAchine LEarning at the Technical University of Munich'"
      ]
     },
     "execution_count": 124,
     "metadata": {},
     "output_type": "execute_result"
    }
   ],
   "source": [
    "ola = Student('ola', 25, 'PhD', 3)\n",
    "ola.course('MAchine LEarning')"
   ]
  },
  {
   "cell_type": "code",
   "execution_count": 78,
   "metadata": {},
   "outputs": [
    {
     "name": "stdout",
     "output_type": "stream",
     "text": [
      "Object type/description:  This is a Student class with methods: course, year and location.\n"
     ]
    },
    {
     "data": {
      "text/plain": [
       "('Ada is pursuing a B.Sc in Mathematics and Computer Science at the Technical University of Munich',\n",
       " ' She is a 21 year old currently in her 4 year.',\n",
       " ' Residing in Kisauni')"
      ]
     },
     "execution_count": 78,
     "metadata": {},
     "output_type": "execute_result"
    }
   ],
   "source": [
    "# creating a class object/instantiating the class\n",
    "student = Student('Ada', 21, 'B.Sc')\n",
    "print('Object type/description:', student)\n",
    "student.course('Mathematics and Computer Science'), student.year(4, 'female'), student.location('Kisauni')"
   ]
  },
  {
   "cell_type": "markdown",
   "metadata": {},
   "source": [
    "### 2. Inheritance\n",
    "> A class takes on the attributes/methods of another. Newly formed classes are called child classes, and the classes that child classes are derived from are called parent classes.\n",
    "\n",
    "> **extending** - having additional attributes.\n",
    "> **overriding** - overwriting inherited attributes."
   ]
  },
  {
   "cell_type": "code",
   "execution_count": 125,
   "metadata": {},
   "outputs": [],
   "source": [
    "''' Using the example of class Student, every time we pass a new student, we have to pass the gender\n",
    "argument which determines the way the year function is returned.  We can create child classes of \n",
    "different genders that inherit attributes of the Student Class and override the year method'''\n",
    "\n",
    "class Female(Student):\n",
    "    \n",
    "    # overriding\n",
    "    def year(self, year, gender = 'female'):\n",
    "        return f\" She is a {self.age} year old currently in her {year} year.\"\n",
    "\n",
    "    #extending\n",
    "    def under_18(self):\n",
    "        if self.age < 18:\n",
    "            return True\n",
    "        else:\n",
    "            return False\n",
    "        \n",
    "class Male(Student):\n",
    "    \n",
    "    # overriding\n",
    "    def year(self, year, gender = 'male'):\n",
    "        return f\" He is a {self.age} year old currently in his {year} year.\"\n",
    "    \n",
    "    #extending\n",
    "    def under_18(self):\n",
    "        if self.age < 18:\n",
    "            return True\n",
    "        else:\n",
    "            return False"
   ]
  },
  {
   "cell_type": "code",
   "execution_count": 127,
   "metadata": {},
   "outputs": [
    {
     "data": {
      "text/plain": [
       "' She is a 21 year old currently in her 4 year.'"
      ]
     },
     "execution_count": 127,
     "metadata": {},
     "output_type": "execute_result"
    }
   ],
   "source": [
    "ada = Female('Ada', 21, 'B.Sc', 4)\n",
    "ada.year(4)"
   ]
  },
  {
   "cell_type": "code",
   "execution_count": 133,
   "metadata": {},
   "outputs": [
    {
     "data": {
      "text/plain": [
       "('Denise is pursuing a B.Sc in Mathematics and Computer Science at the Technical University of Munich',\n",
       " ' She is a 17 year old currently in her 4 year.',\n",
       " ' Residing in Berlin',\n",
       " True)"
      ]
     },
     "execution_count": 133,
     "metadata": {},
     "output_type": "execute_result"
    }
   ],
   "source": [
    "f = Female('Denise', 17, 'B.Sc', 4)\n",
    "f.course('Mathematics and Computer Science'), f.year(4), f.location('Berlin'), f.under_18()"
   ]
  },
  {
   "cell_type": "code",
   "execution_count": 134,
   "metadata": {},
   "outputs": [
    {
     "data": {
      "text/plain": [
       "('Denis is pursuing a B.Sc in Mathematics and Finance at the Technical University of Munich',\n",
       " ' He is a 20 year old currently in his 3 year.',\n",
       " ' Residing in Munich',\n",
       " False)"
      ]
     },
     "execution_count": 134,
     "metadata": {},
     "output_type": "execute_result"
    }
   ],
   "source": [
    "m = Male('Denis', 20, 'B.Sc', 4)\n",
    "m.course('Mathematics and Finance'), m.year(3), f.location('Munich'), m.under_18()"
   ]
  },
  {
   "cell_type": "markdown",
   "metadata": {},
   "source": [
    "### 3. Polymorphism\n",
    "> same function name (but different signatures) being uses for different types."
   ]
  },
  {
   "cell_type": "code",
   "execution_count": 128,
   "metadata": {},
   "outputs": [
    {
     "name": "stdout",
     "output_type": "stream",
     "text": [
      "ada is a lady\n",
      "456\n",
      "[5, 6]\n"
     ]
    }
   ],
   "source": [
    "print('ada is a lady')\n",
    "print(456)\n",
    "print([5,6])"
   ]
  },
  {
   "cell_type": "code",
   "execution_count": 2,
   "metadata": {},
   "outputs": [
    {
     "name": "stdout",
     "output_type": "stream",
     "text": [
      "Nairobi is the capital of Kenya.\n",
      "Kenyatta is the president of Kenya\n",
      "Washington D.C. is the capital of USA.\n",
      "Biden is their newly elected president.\n"
     ]
    }
   ],
   "source": [
    "''' Polymorphism with uniform class methods'''\n",
    "class Kenya(): \n",
    "    def capital(self): \n",
    "        print(\"Nairobi is the capital of Kenya.\") \n",
    "\n",
    "    def president(self): \n",
    "        print(\"Kenyatta is the president of Kenya\") \n",
    "\n",
    "\n",
    "class USA(): \n",
    "    def capital(self): \n",
    "        print(\"Washington D.C. is the capital of USA.\") \n",
    "\n",
    "    def president(self): \n",
    "        print(\"Biden is their newly elected president.\")  \n",
    "\n",
    "k = Kenya()\n",
    "u = USA()\n",
    "\n",
    "\n",
    "for country in [k, u]: \n",
    "    country.capital() \n",
    "    country.president() "
   ]
  },
  {
   "cell_type": "code",
   "execution_count": 112,
   "metadata": {},
   "outputs": [
    {
     "name": "stdout",
     "output_type": "stream",
     "text": [
      "Nairobi is the capital of Kenya.\n",
      "Kenyatta is the president of Kenya\n",
      "Washington, D.C. is the capital of USA.\n",
      "Biden is their newly elected president.\n"
     ]
    }
   ],
   "source": [
    "'''Polymorphism with a function and object'''\n",
    "\n",
    "# in the previous example. Instead of looping: creating a function. \n",
    "\n",
    "def func(obj): \n",
    "    obj.capital() \n",
    "    obj.president() \n",
    "   \n",
    "k = Kenya() \n",
    "u = USA() \n",
    "   \n",
    "func(k) \n",
    "func(u)"
   ]
  },
  {
   "cell_type": "code",
   "execution_count": 110,
   "metadata": {},
   "outputs": [],
   "source": [
    "'''Polymorphism with inheritance'''\n",
    "\n",
    "# This is equal to overriding in inheritance.\n",
    "class Bird: \n",
    "    def intro(self): \n",
    "        print(\"There are many types of birds.\") \n",
    "      \n",
    "    def flight(self): \n",
    "        print(\"Most of the birds can fly but some cannot.\") \n",
    "    \n",
    "class sparrow(Bird): \n",
    "    def flight(self): \n",
    "        print(\"Sparrows can fly.\") "
   ]
  },
  {
   "cell_type": "markdown",
   "metadata": {},
   "source": [
    "## Procedural Programming\n",
    "> Structures a program like a recipe in that it provides a set of steps, in the form of functions and code blocks, that flow sequentially in order to complete a task.\n",
    "\n",
    ">relies on procedure calls to create modularized code. This approach simplifies your application code by breaking it into small pieces that a developer can view easily."
   ]
  },
  {
   "cell_type": "code",
   "execution_count": 114,
   "metadata": {},
   "outputs": [
    {
     "name": "stdout",
     "output_type": "stream",
     "text": [
      "22\n"
     ]
    }
   ],
   "source": [
    "## summing elements of a list\n",
    "def sum_elements(my_list):\n",
    "    sum = 0\n",
    "    for x in my_list:\n",
    "        sum += x\n",
    "    return sum\n",
    "\n",
    "print(sum_elements([4,5,6,7]))"
   ]
  },
  {
   "cell_type": "markdown",
   "metadata": {},
   "source": [
    "#### Task:\n",
    "Create a class Rectangle and define the following methods:\n",
    "* create_rectangle\n",
    "        Input parameters: x, y, width, height\n",
    "        Return value: instance of Rectangle\n",
    "        Operation: create a new instance of Rectangle \n",
    "* area_of_rectangle\n",
    "* perimeter_of__rectangle\n",
    "* product_of_the diagonals\n",
    "\n",
    "Create a class square that inherits from class rectangle with an additional function of:\n",
    "* angle_between_diagonals"
   ]
  },
  {
   "cell_type": "code",
   "execution_count": null,
   "metadata": {},
   "outputs": [],
   "source": []
  }
 ],
 "metadata": {
  "kernelspec": {
   "display_name": "Python 3",
   "language": "python",
   "name": "python3"
  },
  "language_info": {
   "codemirror_mode": {
    "name": "ipython",
    "version": 3
   },
   "file_extension": ".py",
   "mimetype": "text/x-python",
   "name": "python",
   "nbconvert_exporter": "python",
   "pygments_lexer": "ipython3",
   "version": "3.7.4"
  }
 },
 "nbformat": 4,
 "nbformat_minor": 4
}
