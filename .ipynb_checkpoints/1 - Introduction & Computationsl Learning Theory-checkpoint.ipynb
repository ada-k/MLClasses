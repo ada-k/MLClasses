{
 "cells": [
  {
   "cell_type": "markdown",
   "metadata": {},
   "source": [
    "### Intro.\n",
    "**AI** is defined as a program that exhibits cognitive ability similar to that of a human being. Making computers think like humans and solve problems the way we do is one of the main tenets of artificial intelligence.\n",
    " \n",
    " **ML**is fundamentally set apart from artificial intelligence, as it has the capability to evolve. Using various programming techniques, machine learning algorithms are able to process large amounts of data and extract useful information. In this way, they can improve upon their previous iterations by learning from the data they are provided.\n",
    " \n",
    "With machine learning algorithms, AI was able to develop beyond just performing the tasks it was programmed to do. Before ML entered the mainstream, AI programs were only used to automate low-level tasks in business and enterprise settings.\n",
    "\n",
    "This included tasks like intelligent automation or simple rule-based classification. This meant that AI algorithms were restricted to only the domain of what they were processed for. However, with machine learning, computers were able to move past doing what they were programmed and began evolving with each iteration."
   ]
  },
  {
   "cell_type": "markdown",
   "metadata": {},
   "source": [
    "### Types of Learning\n",
    "Learning Problems:\n",
    "   1. **Supervised Learning** - Supervised learning describes a class of problem that involves using a model to learn a mapping between input examples and the target variable. e.g classification, regression.\n",
    "    \n",
    "   2. **Unsupervised Learning** - Unsupervised learning describes a class of problems that involves using a model to describe or extract relationships in data. e.p clustering and DR.\n",
    "    \n",
    "   3. **Reinforcement Learning** - Reinforcement learning describes a class of problems where an agent operates in an environment and must learn to operate using feedback. e.g  Q-learning, temporal-difference learning, and deep reinforcement learning.\n",
    "\n",
    "Hybrid Learning Problems:\n",
    "   4. **Semi-Supervised Learning** - Semi-supervised learning is supervised learning where the training data contains very few labeled examples and a large number of unlabeled examples. For example, classifying photographs requires a dataset of photographs that have already been labeled by human operators.Many problems from the fields of computer vision (image data), natural language processing (text data), and automatic speech recognition (audio data) fall into this category and cannot be easily addressed using standard supervised learning methods.\n",
    "   5. **Self-Supervised Learning** - an unsupervised learning problem that is framed as a supervised learning problem in order to apply supervised learning algorithms to solve it. e.g unsupervised image corpus used to train a supervised model.\n",
    "   6. **Multi-Instance Learning** -a supervised learning problem where individual examples are unlabeled; instead, bags or groups of samples are labeled. i.e collections labelled and not individual instances.\n",
    "\n",
    "Statistical Inference:\n",
    "   7. **Inductive Learning** - using evidence to determine outcome.\n",
    "   8. **Deductive Inference** - using general rules to determine specific outcomes\n",
    "   9. **Transductive Learning** - used in the field of statistical learning theory to refer to predicting specific examples given specific examples from a domain.\n",
    "<img src=\"https://3qeqpr26caki16dnhd19sv6by6v-wpengine.netdna-ssl.com/wp-content/uploads/2019/09/Relationship-between-Induction-Deduction-and-Transduction.png\">\n",
    "\n",
    "Learning Techniques:\n",
    "   10. **Transfer Learning** -  a model is first trained on one task, then some or all of the model is used as the starting point for a related task.\n",
    "   11. **Ensemble Learning** - two or more modes are fit on the same data and the predictions from each model are combined.\n"
   ]
  },
  {
   "cell_type": "markdown",
   "metadata": {},
   "source": [
    "### Types of Data\n",
    "* Useless - data with high cardinality: no much relation with target vaariable.\n",
    "* Nominal - e.g nationality, tribe. \n",
    "* Binary - discrete data presented only in 2 categories.\n",
    "* Ordinal - discrete integers that can be ranked or sorted..\n",
    "* Count - discrete non-negative whole numbers.\n",
    "* Time\n",
    "* Interval\n",
    "* Image\n",
    "* Video\n",
    "* Audio\n",
    "* Text"
   ]
  },
  {
   "cell_type": "markdown",
   "metadata": {},
   "source": [
    "### Python Basics\n",
    "What can you do with Python?\n",
    "* Simple Scripting?\n",
    "* Web Development?\n",
    "* Scraping?\n",
    "* App Development?"
   ]
  },
  {
   "cell_type": "markdown",
   "metadata": {},
   "source": [
    "### Tools\n",
    "* Setting up Anaconda: MacBook/Windows/Linux (we’re gonna be using jupyter notebook/lab for less heavy tasks.\n",
    "* Google Colab.\n",
    "* Kaggle Notebooks.\n",
    "* Azure, AWS (these come at s cost + basic knowledge of cloud computing is required)."
   ]
  },
  {
   "cell_type": "markdown",
   "metadata": {},
   "source": [
    "### Pandas and Numpy\n",
    "* arrays\n",
    "* series\n",
    "* dataframes\n",
    "* operations"
   ]
  },
  {
   "cell_type": "markdown",
   "metadata": {},
   "source": [
    "### Git Operations\n",
    "* creating repo.\n",
    "* cloning.\n",
    "* updating code.\n",
    "* collaboration."
   ]
  },
  {
   "cell_type": "code",
   "execution_count": null,
   "metadata": {},
   "outputs": [],
   "source": []
  }
 ],
 "metadata": {
  "kernelspec": {
   "display_name": "Python 3",
   "language": "python",
   "name": "python3"
  },
  "language_info": {
   "codemirror_mode": {
    "name": "ipython",
    "version": 3
   },
   "file_extension": ".py",
   "mimetype": "text/x-python",
   "name": "python",
   "nbconvert_exporter": "python",
   "pygments_lexer": "ipython3",
   "version": "3.7.4"
  }
 },
 "nbformat": 4,
 "nbformat_minor": 4
}
