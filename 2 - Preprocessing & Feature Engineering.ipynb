{
 "cells": [
  {
   "cell_type": "markdown",
   "metadata": {},
   "source": [
    "# Preprocessing\n",
    "\n",
    "* Null Values\n",
    "* Encoding Categorical Columns.\n",
    "* Standardisation and Normalisation.\n",
    "* Feature Generation.\n",
    "* Feature Selection – (Multicolinearity, Dimensionality Reduction).\n",
    "* Handling Noisy Data – (Binning, CLustering)\n",
    "* Handling Class Imbalance - Covered in CLassification."
   ]
  },
  {
   "cell_type": "markdown",
   "metadata": {},
   "source": [
    "## A. Null Values\n",
    "\n",
    "Types of null values:\n",
    "* Unit non-response - Entire entry missing. NaNs not necessarily visible in dataset.\n",
    "* Item non-response - When specific cells of a column are missing. (Typical missing value definition). \n",
    "    * **MCAR** - Missing Completely At Randon - Missing values miss independently. No systematic difference between missing and available data.\n",
    "    * **MAR** - Missing At Random. When missing values are dependent on some variable but independent on itself. e.g When a sensor breaks then we have missing temperature values with no systematic difference with existing data.\n",
    "    * **MNAR** - Missing Not At Random. When a missing value is dependent on the value itself.Thus the difference is sytematic. e.g when a low income group fails to answer a questionnaire because its low.\n",
    "    \n"
   ]
  },
  {
   "cell_type": "code",
   "execution_count": 101,
   "metadata": {},
   "outputs": [],
   "source": [
    "import pandas as pd\n",
    "import numpy as np \n",
    "import matplotlib.pyplot as plt\n",
    "import seaborn as sns\n",
    "import stats\n",
    "import scipy"
   ]
  },
  {
   "cell_type": "code",
   "execution_count": 6,
   "metadata": {},
   "outputs": [],
   "source": [
    "# !pip install stats"
   ]
  },
  {
   "cell_type": "code",
   "execution_count": 7,
   "metadata": {},
   "outputs": [],
   "source": [
    "# !pip install scipy"
   ]
  },
  {
   "cell_type": "code",
   "execution_count": 142,
   "metadata": {},
   "outputs": [
    {
     "name": "stdout",
     "output_type": "stream",
     "text": [
      "the dataset has 3865 rows and 80 columns.\n"
     ]
    },
    {
     "data": {
      "text/html": [
       "<div>\n",
       "<style scoped>\n",
       "    .dataframe tbody tr th:only-of-type {\n",
       "        vertical-align: middle;\n",
       "    }\n",
       "\n",
       "    .dataframe tbody tr th {\n",
       "        vertical-align: top;\n",
       "    }\n",
       "\n",
       "    .dataframe thead th {\n",
       "        text-align: right;\n",
       "    }\n",
       "</style>\n",
       "<table border=\"1\" class=\"dataframe\">\n",
       "  <thead>\n",
       "    <tr style=\"text-align: right;\">\n",
       "      <th></th>\n",
       "      <th>galactic year</th>\n",
       "      <th>galaxy</th>\n",
       "      <th>existence expectancy index</th>\n",
       "      <th>existence expectancy at birth</th>\n",
       "      <th>Gross income per capita</th>\n",
       "      <th>Income Index</th>\n",
       "      <th>Expected years of education (galactic years)</th>\n",
       "      <th>Mean years of education (galactic years)</th>\n",
       "      <th>Intergalactic Development Index (IDI)</th>\n",
       "      <th>Education Index</th>\n",
       "      <th>...</th>\n",
       "      <th>Intergalactic Development Index (IDI), female</th>\n",
       "      <th>Intergalactic Development Index (IDI), male</th>\n",
       "      <th>Gender Development Index (GDI)</th>\n",
       "      <th>Intergalactic Development Index (IDI), female, Rank</th>\n",
       "      <th>Intergalactic Development Index (IDI), male, Rank</th>\n",
       "      <th>Adjusted net savings</th>\n",
       "      <th>Creature Immunodeficiency Disease prevalence, adult (% ages 15-49), total</th>\n",
       "      <th>Private galaxy capital flows (% of GGP)</th>\n",
       "      <th>Gender Inequality Index (GII)</th>\n",
       "      <th>y</th>\n",
       "    </tr>\n",
       "  </thead>\n",
       "  <tbody>\n",
       "    <tr>\n",
       "      <td>1963</td>\n",
       "      <td>1000000</td>\n",
       "      <td>UGC 4879 (VV124)[61]</td>\n",
       "      <td>0.863473</td>\n",
       "      <td>79.168027</td>\n",
       "      <td>18143.026626</td>\n",
       "      <td>0.666551</td>\n",
       "      <td>14.602533</td>\n",
       "      <td>14.305717</td>\n",
       "      <td>0.693812</td>\n",
       "      <td>0.781509</td>\n",
       "      <td>...</td>\n",
       "      <td>0.789967</td>\n",
       "      <td>0.815218</td>\n",
       "      <td>1.043192</td>\n",
       "      <td>119.069402</td>\n",
       "      <td>131.776316</td>\n",
       "      <td>13.412773</td>\n",
       "      <td>3.793673</td>\n",
       "      <td>-5.198366</td>\n",
       "      <td>0.596949</td>\n",
       "      <td>0.069392</td>\n",
       "    </tr>\n",
       "    <tr>\n",
       "      <td>1759</td>\n",
       "      <td>999000</td>\n",
       "      <td>Andromeda XXVI</td>\n",
       "      <td>0.815138</td>\n",
       "      <td>75.478762</td>\n",
       "      <td>22075.836821</td>\n",
       "      <td>0.695630</td>\n",
       "      <td>12.518515</td>\n",
       "      <td>5.825528</td>\n",
       "      <td>0.696053</td>\n",
       "      <td>0.604032</td>\n",
       "      <td>...</td>\n",
       "      <td>NaN</td>\n",
       "      <td>NaN</td>\n",
       "      <td>NaN</td>\n",
       "      <td>NaN</td>\n",
       "      <td>NaN</td>\n",
       "      <td>NaN</td>\n",
       "      <td>NaN</td>\n",
       "      <td>NaN</td>\n",
       "      <td>NaN</td>\n",
       "      <td>0.053221</td>\n",
       "    </tr>\n",
       "    <tr>\n",
       "      <td>1317</td>\n",
       "      <td>997002</td>\n",
       "      <td>Ursa Major I Dwarf (UMa I dSph)</td>\n",
       "      <td>0.840167</td>\n",
       "      <td>86.669355</td>\n",
       "      <td>11575.283466</td>\n",
       "      <td>0.779587</td>\n",
       "      <td>12.957981</td>\n",
       "      <td>8.628757</td>\n",
       "      <td>0.877215</td>\n",
       "      <td>0.670342</td>\n",
       "      <td>...</td>\n",
       "      <td>NaN</td>\n",
       "      <td>NaN</td>\n",
       "      <td>NaN</td>\n",
       "      <td>NaN</td>\n",
       "      <td>NaN</td>\n",
       "      <td>NaN</td>\n",
       "      <td>NaN</td>\n",
       "      <td>NaN</td>\n",
       "      <td>NaN</td>\n",
       "      <td>0.060449</td>\n",
       "    </tr>\n",
       "    <tr>\n",
       "      <td>2580</td>\n",
       "      <td>1004004</td>\n",
       "      <td>Sagittarius II</td>\n",
       "      <td>1.034332</td>\n",
       "      <td>83.411279</td>\n",
       "      <td>35738.394155</td>\n",
       "      <td>0.862817</td>\n",
       "      <td>16.136683</td>\n",
       "      <td>12.788388</td>\n",
       "      <td>0.932116</td>\n",
       "      <td>0.854609</td>\n",
       "      <td>...</td>\n",
       "      <td>NaN</td>\n",
       "      <td>NaN</td>\n",
       "      <td>NaN</td>\n",
       "      <td>NaN</td>\n",
       "      <td>NaN</td>\n",
       "      <td>NaN</td>\n",
       "      <td>NaN</td>\n",
       "      <td>NaN</td>\n",
       "      <td>NaN</td>\n",
       "      <td>0.087357</td>\n",
       "    </tr>\n",
       "    <tr>\n",
       "      <td>1113</td>\n",
       "      <td>996004</td>\n",
       "      <td>ESO 410-G005</td>\n",
       "      <td>0.888261</td>\n",
       "      <td>83.735196</td>\n",
       "      <td>27441.054504</td>\n",
       "      <td>0.886745</td>\n",
       "      <td>13.984027</td>\n",
       "      <td>NaN</td>\n",
       "      <td>NaN</td>\n",
       "      <td>NaN</td>\n",
       "      <td>...</td>\n",
       "      <td>NaN</td>\n",
       "      <td>NaN</td>\n",
       "      <td>NaN</td>\n",
       "      <td>NaN</td>\n",
       "      <td>NaN</td>\n",
       "      <td>NaN</td>\n",
       "      <td>NaN</td>\n",
       "      <td>NaN</td>\n",
       "      <td>NaN</td>\n",
       "      <td>0.071988</td>\n",
       "    </tr>\n",
       "  </tbody>\n",
       "</table>\n",
       "<p>5 rows × 80 columns</p>\n",
       "</div>"
      ],
      "text/plain": [
       "      galactic year                           galaxy  \\\n",
       "1963        1000000             UGC 4879 (VV124)[61]   \n",
       "1759         999000                   Andromeda XXVI   \n",
       "1317         997002  Ursa Major I Dwarf (UMa I dSph)   \n",
       "2580        1004004                   Sagittarius II   \n",
       "1113         996004                     ESO 410-G005   \n",
       "\n",
       "      existence expectancy index  existence expectancy at birth  \\\n",
       "1963                    0.863473                      79.168027   \n",
       "1759                    0.815138                      75.478762   \n",
       "1317                    0.840167                      86.669355   \n",
       "2580                    1.034332                      83.411279   \n",
       "1113                    0.888261                      83.735196   \n",
       "\n",
       "      Gross income per capita  Income Index  \\\n",
       "1963             18143.026626      0.666551   \n",
       "1759             22075.836821      0.695630   \n",
       "1317             11575.283466      0.779587   \n",
       "2580             35738.394155      0.862817   \n",
       "1113             27441.054504      0.886745   \n",
       "\n",
       "      Expected years of education (galactic years)  \\\n",
       "1963                                     14.602533   \n",
       "1759                                     12.518515   \n",
       "1317                                     12.957981   \n",
       "2580                                     16.136683   \n",
       "1113                                     13.984027   \n",
       "\n",
       "      Mean years of education (galactic years)  \\\n",
       "1963                                 14.305717   \n",
       "1759                                  5.825528   \n",
       "1317                                  8.628757   \n",
       "2580                                 12.788388   \n",
       "1113                                       NaN   \n",
       "\n",
       "      Intergalactic Development Index (IDI)  Education Index  ...  \\\n",
       "1963                               0.693812         0.781509  ...   \n",
       "1759                               0.696053         0.604032  ...   \n",
       "1317                               0.877215         0.670342  ...   \n",
       "2580                               0.932116         0.854609  ...   \n",
       "1113                                    NaN              NaN  ...   \n",
       "\n",
       "      Intergalactic Development Index (IDI), female  \\\n",
       "1963                                       0.789967   \n",
       "1759                                            NaN   \n",
       "1317                                            NaN   \n",
       "2580                                            NaN   \n",
       "1113                                            NaN   \n",
       "\n",
       "      Intergalactic Development Index (IDI), male  \\\n",
       "1963                                     0.815218   \n",
       "1759                                          NaN   \n",
       "1317                                          NaN   \n",
       "2580                                          NaN   \n",
       "1113                                          NaN   \n",
       "\n",
       "      Gender Development Index (GDI)  \\\n",
       "1963                        1.043192   \n",
       "1759                             NaN   \n",
       "1317                             NaN   \n",
       "2580                             NaN   \n",
       "1113                             NaN   \n",
       "\n",
       "      Intergalactic Development Index (IDI), female, Rank  \\\n",
       "1963                                         119.069402     \n",
       "1759                                                NaN     \n",
       "1317                                                NaN     \n",
       "2580                                                NaN     \n",
       "1113                                                NaN     \n",
       "\n",
       "      Intergalactic Development Index (IDI), male, Rank  \\\n",
       "1963                                         131.776316   \n",
       "1759                                                NaN   \n",
       "1317                                                NaN   \n",
       "2580                                                NaN   \n",
       "1113                                                NaN   \n",
       "\n",
       "      Adjusted net savings   \\\n",
       "1963              13.412773   \n",
       "1759                    NaN   \n",
       "1317                    NaN   \n",
       "2580                    NaN   \n",
       "1113                    NaN   \n",
       "\n",
       "      Creature Immunodeficiency Disease prevalence, adult (% ages 15-49), total  \\\n",
       "1963                                           3.793673                           \n",
       "1759                                                NaN                           \n",
       "1317                                                NaN                           \n",
       "2580                                                NaN                           \n",
       "1113                                                NaN                           \n",
       "\n",
       "      Private galaxy capital flows (% of GGP)  Gender Inequality Index (GII)  \\\n",
       "1963                                -5.198366                       0.596949   \n",
       "1759                                      NaN                            NaN   \n",
       "1317                                      NaN                            NaN   \n",
       "2580                                      NaN                            NaN   \n",
       "1113                                      NaN                            NaN   \n",
       "\n",
       "             y  \n",
       "1963  0.069392  \n",
       "1759  0.053221  \n",
       "1317  0.060449  \n",
       "2580  0.087357  \n",
       "1113  0.071988  \n",
       "\n",
       "[5 rows x 80 columns]"
      ]
     },
     "execution_count": 142,
     "metadata": {},
     "output_type": "execute_result"
    }
   ],
   "source": [
    "data = pd.read_csv('/home/ada/teacherOn/Ola McCartney/Intermediate ML/datasets/train.csv', sep = ',')\n",
    "print('the dataset has', data.shape[0], 'rows and', data.shape[1], 'columns.')\n",
    "data.sample(5)"
   ]
  },
  {
   "cell_type": "code",
   "execution_count": 146,
   "metadata": {},
   "outputs": [],
   "source": [
    "# (data.isna().sum()/data.shape[0])*100"
   ]
  },
  {
   "cell_type": "code",
   "execution_count": 147,
   "metadata": {},
   "outputs": [
    {
     "data": {
      "text/plain": [
       "<matplotlib.axes._subplots.AxesSubplot at 0x7fdb039e8dd0>"
      ]
     },
     "execution_count": 147,
     "metadata": {},
     "output_type": "execute_result"
    },
    {
     "data": {
      "image/png": "[encoded data removed]",
      "text/plain": [
       "<Figure size 1152x432 with 1 Axes>"
      ]
     },
     "metadata": {
      "needs_background": "light"
     },
     "output_type": "display_data"
    }
   ],
   "source": [
    "# check for null values and do a plot\n",
    "nulls = (data.isna().sum()/data.shape[0])*100\n",
    "\n",
    "nulls = pd.DataFrame(nulls)\n",
    "plt.figure(figsize = (16,6))\n",
    "plt.xticks(rotation = 60)\n",
    "n = nulls.head(20)\n",
    "sns.barplot(x = n.index, y = n.iloc[:,0])\n",
    "# nulls"
   ]
  },
  {
   "cell_type": "markdown",
   "metadata": {},
   "source": [
    "### Mean, Median, and Mode Imputation.\n",
    "\n",
    "* Pros - Easy\n",
    "* Cons - Distorts Variance.\n",
    "* Handles: MCAR and MAR Item Non-Response, sensitive to outliers.\n",
    "\n",
    "**PS**: Shouldn't be used in MNAR cases."
   ]
  },
  {
   "cell_type": "code",
   "execution_count": 149,
   "metadata": {},
   "outputs": [],
   "source": [
    "# data.dtypes\n",
    "# data['galaxy'].fillna(np.mode(data['galaxy']))"
   ]
  },
  {
   "cell_type": "code",
   "execution_count": 150,
   "metadata": {},
   "outputs": [
    {
     "data": {
      "text/plain": [
       "<matplotlib.axes._subplots.AxesSubplot at 0x7fdb03bb3e90>"
      ]
     },
     "execution_count": 150,
     "metadata": {},
     "output_type": "execute_result"
    },
    {
     "data": {
      "image/png": "[encoded data removed]",
      "text/plain": [
       "<Figure size 864x216 with 1 Axes>"
      ]
     },
     "metadata": {
      "needs_background": "light"
     },
     "output_type": "display_data"
    }
   ],
   "source": [
    "# imputation\n",
    "# strategy = mean, median, most_frequent(mode), constant. default = 'mean'\n",
    "\n",
    "# numerical and categorical imputers\n",
    "from sklearn.impute import SimpleImputer\n",
    "#NaN\n",
    "\n",
    "numerical_imputer = SimpleImputer(missing_values=np.nan, strategy = 'mean')\n",
    "categorical_imputer = SimpleImputer(missing_values=np.nan, strategy = 'most_frequent')\n",
    "\n",
    "# numerical and categorical columns\n",
    "categorical = []\n",
    "numerical = []\n",
    "\n",
    "for col in data.columns:\n",
    "    if data[col].dtype in ['int8', 'int16', 'int32', 'int64', 'float16', 'float32', 'float64']:\n",
    "        numerical.append(col)\n",
    "    elif data[col].dtype == object:\n",
    "        categorical.append(col)\n",
    "        \n",
    "columns = numerical + categorical\n",
    "new_data = data[columns]\n",
    "# new_data.info()\n",
    "\n",
    "# get index locations of the columns\n",
    "numerical_indices = []\n",
    "cat_indices = []\n",
    "for col_name in numerical:\n",
    "    i = new_data.columns.get_loc(col_name) \n",
    "    numerical_indices.append(i)\n",
    "    \n",
    "for col_name in categorical:\n",
    "    i = new_data.columns.get_loc(col_name) \n",
    "    cat_indices.append(i)\n",
    "    \n",
    "# actual imputation\n",
    "# numerical\n",
    "for col in numerical_indices:\n",
    "    x = new_data.iloc[:, col].values\n",
    "    x = x.reshape(-1,1)\n",
    "    x = numerical_imputer.fit_transform(x)\n",
    "#     imputer = numerical_imputer.fit(x)\n",
    "#     x = imputer.transform(x)\n",
    "\n",
    "    new_data.iloc[:, col] = x   \n",
    "    \n",
    "# categorical\n",
    "for col in cat_indices:\n",
    "    x = new_data.iloc[:, col].values\n",
    "    x = x.reshape(-1,1)\n",
    "    imputer = categorical_imputer.fit(x)\n",
    "    x = imputer.transform(x)\n",
    "    new_data.iloc[:, col] = x \n",
    "    \n",
    "# checking again for null values\n",
    "nulls = (new_data.isna().sum()/data.shape[0])*100\n",
    "nulls = pd.DataFrame(nulls)\n",
    "plt.figure(figsize = (12,3))\n",
    "plt.xticks(rotation = 60)\n",
    "n = nulls.head(20)\n",
    "sns.barplot(x = n.index, y = n.iloc[:,0])"
   ]
  },
  {
   "cell_type": "code",
   "execution_count": 5,
   "metadata": {},
   "outputs": [],
   "source": [
    "# fillna function\n",
    "data['column name'].fillna(0, inplace = True)"
   ]
  },
  {
   "cell_type": "markdown",
   "metadata": {},
   "source": [
    "Notes on Null values imputation:\n",
    "* If you replace missings with means, naturally the mean is preserved.\n",
    "* median best for data with robust outliers because mean would distort variance alot.\n",
    "* median reflects the central tendency the best implying that for continuous data, the use of the median is better than mean."
   ]
  },
  {
   "cell_type": "markdown",
   "metadata": {},
   "source": [
    "### Model Based Imputation\n",
    "\n",
    "Column with missing value is set as the target variable then the rest of the features act as predictor variables.\n",
    "\n",
    "* Pros: Improvement over Mean/Median/Mode Imputation.\n",
    "\n",
    "* Cons: Still distorts histograms — Underestimates variance.\n",
    "\n",
    "* Handles: MCAR and MAR Item Non-Response"
   ]
  },
  {
   "cell_type": "markdown",
   "metadata": {},
   "source": [
    "### KNN Imputation\n",
    "KNNImputer helps to impute missing values by finding the k nearest neighbors with the Euclidean distance matrix. (Shortest distance possible - straight line between data points).\n",
    "\n",
    "Each sample’s missing values are imputed using the mean value from n_neighbors nearest neighbors found in the training set. Two samples are close if the features that neither is missing are close.\n",
    "\n",
    "* Pros - more accurate than simple imputation.\n",
    "* cons - computationally expensive, sensitive to outliers. "
   ]
  },
  {
   "cell_type": "code",
   "execution_count": 2,
   "metadata": {},
   "outputs": [],
   "source": [
    "# import numpy as np\n",
    "# from sklearn.impute import KNNImputer\n",
    "\n",
    "# imputer = KNNImputer(n_neighbors=2) #define the k nearest neighbors   \n",
    "# imputer.fit_transform(data)"
   ]
  },
  {
   "cell_type": "code",
   "execution_count": 152,
   "metadata": {},
   "outputs": [
    {
     "name": "stdout",
     "output_type": "stream",
     "text": [
      "[[ 1.  2. nan]\n",
      " [ 3.  4.  3.]\n",
      " [nan  6.  5.]\n",
      " [ 8.  8.  7.]]\n"
     ]
    },
    {
     "data": {
      "text/plain": [
       "array([[1. , 2. , 4. ],\n",
       "       [3. , 4. , 3. ],\n",
       "       [5.5, 6. , 5. ],\n",
       "       [8. , 8. , 7. ]])"
      ]
     },
     "execution_count": 152,
     "metadata": {},
     "output_type": "execute_result"
    }
   ],
   "source": [
    "import numpy as np\n",
    "from sklearn.impute import KNNImputer\n",
    "X = [[1, 2, np.nan], [3, 4, 3], [np.nan, 6, 5], [8, 8, 7]]\n",
    "\n",
    "print(np.array(X))\n",
    "imputer = KNNImputer(n_neighbors=2)\n",
    "y = imputer.fit_transform(X)\n",
    "y"
   ]
  },
  {
   "cell_type": "code",
   "execution_count": null,
   "metadata": {},
   "outputs": [],
   "source": []
  },
  {
   "cell_type": "markdown",
   "metadata": {},
   "source": [
    "## B. Encoding Categorical Columns\n",
    "Most ML models cannot handle categorical data, thus they have to be converted to numerical form. \n",
    "Exception of **catboost** which actually gives room for categorical columns.\n",
    "\n",
    "**Nominal**: Categories do not imply any quantitative measure and there is typically no order in the data. For example, race, gender, languages are categorical variables but we cannot order different categories of these variables.\n",
    "\n",
    "**Ordinal**: Unlike nominal data, there is an order between categories. One category can be superior to another category and vice versa. e.g .*Low, medium, high, Cold, warm, hot*"
   ]
  },
  {
   "cell_type": "markdown",
   "metadata": {},
   "source": [
    "### 1. One Hot Encoding\n",
    "Each category is mapped into a vector containing zeros and ones. \n",
    "\n",
    "* pros - doesn't assign hierarchy to categories.\n",
    "* cons - computationally expensive."
   ]
  },
  {
   "cell_type": "code",
   "execution_count": 170,
   "metadata": {},
   "outputs": [
    {
     "data": {
      "text/html": [
       "<div>\n",
       "<style scoped>\n",
       "    .dataframe tbody tr th:only-of-type {\n",
       "        vertical-align: middle;\n",
       "    }\n",
       "\n",
       "    .dataframe tbody tr th {\n",
       "        vertical-align: top;\n",
       "    }\n",
       "\n",
       "    .dataframe thead th {\n",
       "        text-align: right;\n",
       "    }\n",
       "</style>\n",
       "<table border=\"1\" class=\"dataframe\">\n",
       "  <thead>\n",
       "    <tr style=\"text-align: right;\">\n",
       "      <th></th>\n",
       "      <th>Id</th>\n",
       "      <th>MSSubClass</th>\n",
       "      <th>MSZoning</th>\n",
       "      <th>LotFrontage</th>\n",
       "      <th>LotArea</th>\n",
       "      <th>Street</th>\n",
       "      <th>Alley</th>\n",
       "      <th>LotShape</th>\n",
       "      <th>LandContour</th>\n",
       "      <th>Utilities</th>\n",
       "      <th>...</th>\n",
       "      <th>PoolArea</th>\n",
       "      <th>PoolQC</th>\n",
       "      <th>Fence</th>\n",
       "      <th>MiscFeature</th>\n",
       "      <th>MiscVal</th>\n",
       "      <th>MoSold</th>\n",
       "      <th>YrSold</th>\n",
       "      <th>SaleType</th>\n",
       "      <th>SaleCondition</th>\n",
       "      <th>SalePrice</th>\n",
       "    </tr>\n",
       "  </thead>\n",
       "  <tbody>\n",
       "    <tr>\n",
       "      <td>356</td>\n",
       "      <td>357</td>\n",
       "      <td>20</td>\n",
       "      <td>RL</td>\n",
       "      <td>NaN</td>\n",
       "      <td>9248</td>\n",
       "      <td>Pave</td>\n",
       "      <td>NaN</td>\n",
       "      <td>IR1</td>\n",
       "      <td>Lvl</td>\n",
       "      <td>AllPub</td>\n",
       "      <td>...</td>\n",
       "      <td>0</td>\n",
       "      <td>NaN</td>\n",
       "      <td>NaN</td>\n",
       "      <td>NaN</td>\n",
       "      <td>0</td>\n",
       "      <td>7</td>\n",
       "      <td>2009</td>\n",
       "      <td>WD</td>\n",
       "      <td>Normal</td>\n",
       "      <td>173000</td>\n",
       "    </tr>\n",
       "    <tr>\n",
       "      <td>246</td>\n",
       "      <td>247</td>\n",
       "      <td>190</td>\n",
       "      <td>RM</td>\n",
       "      <td>69.0</td>\n",
       "      <td>9142</td>\n",
       "      <td>Pave</td>\n",
       "      <td>Grvl</td>\n",
       "      <td>Reg</td>\n",
       "      <td>Lvl</td>\n",
       "      <td>AllPub</td>\n",
       "      <td>...</td>\n",
       "      <td>0</td>\n",
       "      <td>NaN</td>\n",
       "      <td>NaN</td>\n",
       "      <td>NaN</td>\n",
       "      <td>0</td>\n",
       "      <td>4</td>\n",
       "      <td>2006</td>\n",
       "      <td>WD</td>\n",
       "      <td>Normal</td>\n",
       "      <td>137000</td>\n",
       "    </tr>\n",
       "    <tr>\n",
       "      <td>754</td>\n",
       "      <td>755</td>\n",
       "      <td>20</td>\n",
       "      <td>RL</td>\n",
       "      <td>61.0</td>\n",
       "      <td>7930</td>\n",
       "      <td>Pave</td>\n",
       "      <td>NaN</td>\n",
       "      <td>Reg</td>\n",
       "      <td>Lvl</td>\n",
       "      <td>AllPub</td>\n",
       "      <td>...</td>\n",
       "      <td>0</td>\n",
       "      <td>NaN</td>\n",
       "      <td>NaN</td>\n",
       "      <td>NaN</td>\n",
       "      <td>0</td>\n",
       "      <td>7</td>\n",
       "      <td>2009</td>\n",
       "      <td>WD</td>\n",
       "      <td>Normal</td>\n",
       "      <td>156000</td>\n",
       "    </tr>\n",
       "    <tr>\n",
       "      <td>1280</td>\n",
       "      <td>1281</td>\n",
       "      <td>20</td>\n",
       "      <td>RL</td>\n",
       "      <td>67.0</td>\n",
       "      <td>9808</td>\n",
       "      <td>Pave</td>\n",
       "      <td>NaN</td>\n",
       "      <td>IR1</td>\n",
       "      <td>Lvl</td>\n",
       "      <td>AllPub</td>\n",
       "      <td>...</td>\n",
       "      <td>0</td>\n",
       "      <td>NaN</td>\n",
       "      <td>NaN</td>\n",
       "      <td>NaN</td>\n",
       "      <td>0</td>\n",
       "      <td>3</td>\n",
       "      <td>2009</td>\n",
       "      <td>WD</td>\n",
       "      <td>Normal</td>\n",
       "      <td>227000</td>\n",
       "    </tr>\n",
       "    <tr>\n",
       "      <td>1366</td>\n",
       "      <td>1367</td>\n",
       "      <td>60</td>\n",
       "      <td>RL</td>\n",
       "      <td>68.0</td>\n",
       "      <td>9179</td>\n",
       "      <td>Pave</td>\n",
       "      <td>NaN</td>\n",
       "      <td>IR1</td>\n",
       "      <td>Lvl</td>\n",
       "      <td>AllPub</td>\n",
       "      <td>...</td>\n",
       "      <td>0</td>\n",
       "      <td>NaN</td>\n",
       "      <td>NaN</td>\n",
       "      <td>NaN</td>\n",
       "      <td>0</td>\n",
       "      <td>6</td>\n",
       "      <td>2008</td>\n",
       "      <td>WD</td>\n",
       "      <td>Abnorml</td>\n",
       "      <td>193000</td>\n",
       "    </tr>\n",
       "  </tbody>\n",
       "</table>\n",
       "<p>5 rows × 81 columns</p>\n",
       "</div>"
      ],
      "text/plain": [
       "        Id  MSSubClass MSZoning  LotFrontage  LotArea Street Alley LotShape  \\\n",
       "356    357          20       RL          NaN     9248   Pave   NaN      IR1   \n",
       "246    247         190       RM         69.0     9142   Pave  Grvl      Reg   \n",
       "754    755          20       RL         61.0     7930   Pave   NaN      Reg   \n",
       "1280  1281          20       RL         67.0     9808   Pave   NaN      IR1   \n",
       "1366  1367          60       RL         68.0     9179   Pave   NaN      IR1   \n",
       "\n",
       "     LandContour Utilities  ... PoolArea PoolQC Fence MiscFeature MiscVal  \\\n",
       "356          Lvl    AllPub  ...        0    NaN   NaN         NaN       0   \n",
       "246          Lvl    AllPub  ...        0    NaN   NaN         NaN       0   \n",
       "754          Lvl    AllPub  ...        0    NaN   NaN         NaN       0   \n",
       "1280         Lvl    AllPub  ...        0    NaN   NaN         NaN       0   \n",
       "1366         Lvl    AllPub  ...        0    NaN   NaN         NaN       0   \n",
       "\n",
       "     MoSold YrSold  SaleType  SaleCondition  SalePrice  \n",
       "356       7   2009        WD         Normal     173000  \n",
       "246       4   2006        WD         Normal     137000  \n",
       "754       7   2009        WD         Normal     156000  \n",
       "1280      3   2009        WD         Normal     227000  \n",
       "1366      6   2008        WD        Abnorml     193000  \n",
       "\n",
       "[5 rows x 81 columns]"
      ]
     },
     "execution_count": 170,
     "metadata": {},
     "output_type": "execute_result"
    }
   ],
   "source": [
    "data = pd.read_csv(\"/home/ada/teacherOn/Ola McCartney/Intermediate ML/datasets/house.csv\")\n",
    "data.sample(5)"
   ]
  },
  {
   "cell_type": "code",
   "execution_count": 161,
   "metadata": {},
   "outputs": [
    {
     "name": "stdout",
     "output_type": "stream",
     "text": [
      "shape before encoding: (1460, 81)\n",
      "shape after get dummies function: (1460, 247)\n"
     ]
    }
   ],
   "source": [
    "# get dummies function\n",
    "encoded = pd.get_dummies(data, drop_first = True) # defaults to OHE\n",
    "print('shape before encoding:', data.shape)\n",
    "print('shape after get dummies function:', encoded.shape)\n",
    "\n",
    "# # OneHotEncoder function\n",
    "# from sklearn.preprocessing import OneHotEncoder\n",
    "# ohe = OneHotEncoder()\n",
    "# encoded_features = ohe.fit_transform(data['Street']).reshape(-1,1)\n",
    "# print('shape after the OHE function:', encoded_features.shape)"
   ]
  },
  {
   "cell_type": "code",
   "execution_count": 162,
   "metadata": {},
   "outputs": [
    {
     "data": {
      "text/html": [
       "<div>\n",
       "<style scoped>\n",
       "    .dataframe tbody tr th:only-of-type {\n",
       "        vertical-align: middle;\n",
       "    }\n",
       "\n",
       "    .dataframe tbody tr th {\n",
       "        vertical-align: top;\n",
       "    }\n",
       "\n",
       "    .dataframe thead th {\n",
       "        text-align: right;\n",
       "    }\n",
       "</style>\n",
       "<table border=\"1\" class=\"dataframe\">\n",
       "  <thead>\n",
       "    <tr style=\"text-align: right;\">\n",
       "      <th></th>\n",
       "      <th>Id</th>\n",
       "      <th>MSSubClass</th>\n",
       "      <th>LotFrontage</th>\n",
       "      <th>LotArea</th>\n",
       "      <th>OverallQual</th>\n",
       "      <th>OverallCond</th>\n",
       "      <th>YearBuilt</th>\n",
       "      <th>YearRemodAdd</th>\n",
       "      <th>MasVnrArea</th>\n",
       "      <th>BsmtFinSF1</th>\n",
       "      <th>...</th>\n",
       "      <th>SaleType_ConLI</th>\n",
       "      <th>SaleType_ConLw</th>\n",
       "      <th>SaleType_New</th>\n",
       "      <th>SaleType_Oth</th>\n",
       "      <th>SaleType_WD</th>\n",
       "      <th>SaleCondition_AdjLand</th>\n",
       "      <th>SaleCondition_Alloca</th>\n",
       "      <th>SaleCondition_Family</th>\n",
       "      <th>SaleCondition_Normal</th>\n",
       "      <th>SaleCondition_Partial</th>\n",
       "    </tr>\n",
       "  </thead>\n",
       "  <tbody>\n",
       "    <tr>\n",
       "      <td>0</td>\n",
       "      <td>1</td>\n",
       "      <td>60</td>\n",
       "      <td>65.0</td>\n",
       "      <td>8450</td>\n",
       "      <td>7</td>\n",
       "      <td>5</td>\n",
       "      <td>2003</td>\n",
       "      <td>2003</td>\n",
       "      <td>196.0</td>\n",
       "      <td>706</td>\n",
       "      <td>...</td>\n",
       "      <td>0</td>\n",
       "      <td>0</td>\n",
       "      <td>0</td>\n",
       "      <td>0</td>\n",
       "      <td>1</td>\n",
       "      <td>0</td>\n",
       "      <td>0</td>\n",
       "      <td>0</td>\n",
       "      <td>1</td>\n",
       "      <td>0</td>\n",
       "    </tr>\n",
       "    <tr>\n",
       "      <td>1</td>\n",
       "      <td>2</td>\n",
       "      <td>20</td>\n",
       "      <td>80.0</td>\n",
       "      <td>9600</td>\n",
       "      <td>6</td>\n",
       "      <td>8</td>\n",
       "      <td>1976</td>\n",
       "      <td>1976</td>\n",
       "      <td>0.0</td>\n",
       "      <td>978</td>\n",
       "      <td>...</td>\n",
       "      <td>0</td>\n",
       "      <td>0</td>\n",
       "      <td>0</td>\n",
       "      <td>0</td>\n",
       "      <td>1</td>\n",
       "      <td>0</td>\n",
       "      <td>0</td>\n",
       "      <td>0</td>\n",
       "      <td>1</td>\n",
       "      <td>0</td>\n",
       "    </tr>\n",
       "    <tr>\n",
       "      <td>2</td>\n",
       "      <td>3</td>\n",
       "      <td>60</td>\n",
       "      <td>68.0</td>\n",
       "      <td>11250</td>\n",
       "      <td>7</td>\n",
       "      <td>5</td>\n",
       "      <td>2001</td>\n",
       "      <td>2002</td>\n",
       "      <td>162.0</td>\n",
       "      <td>486</td>\n",
       "      <td>...</td>\n",
       "      <td>0</td>\n",
       "      <td>0</td>\n",
       "      <td>0</td>\n",
       "      <td>0</td>\n",
       "      <td>1</td>\n",
       "      <td>0</td>\n",
       "      <td>0</td>\n",
       "      <td>0</td>\n",
       "      <td>1</td>\n",
       "      <td>0</td>\n",
       "    </tr>\n",
       "    <tr>\n",
       "      <td>3</td>\n",
       "      <td>4</td>\n",
       "      <td>70</td>\n",
       "      <td>60.0</td>\n",
       "      <td>9550</td>\n",
       "      <td>7</td>\n",
       "      <td>5</td>\n",
       "      <td>1915</td>\n",
       "      <td>1970</td>\n",
       "      <td>0.0</td>\n",
       "      <td>216</td>\n",
       "      <td>...</td>\n",
       "      <td>0</td>\n",
       "      <td>0</td>\n",
       "      <td>0</td>\n",
       "      <td>0</td>\n",
       "      <td>1</td>\n",
       "      <td>0</td>\n",
       "      <td>0</td>\n",
       "      <td>0</td>\n",
       "      <td>0</td>\n",
       "      <td>0</td>\n",
       "    </tr>\n",
       "    <tr>\n",
       "      <td>4</td>\n",
       "      <td>5</td>\n",
       "      <td>60</td>\n",
       "      <td>84.0</td>\n",
       "      <td>14260</td>\n",
       "      <td>8</td>\n",
       "      <td>5</td>\n",
       "      <td>2000</td>\n",
       "      <td>2000</td>\n",
       "      <td>350.0</td>\n",
       "      <td>655</td>\n",
       "      <td>...</td>\n",
       "      <td>0</td>\n",
       "      <td>0</td>\n",
       "      <td>0</td>\n",
       "      <td>0</td>\n",
       "      <td>1</td>\n",
       "      <td>0</td>\n",
       "      <td>0</td>\n",
       "      <td>0</td>\n",
       "      <td>1</td>\n",
       "      <td>0</td>\n",
       "    </tr>\n",
       "  </tbody>\n",
       "</table>\n",
       "<p>5 rows × 247 columns</p>\n",
       "</div>"
      ],
      "text/plain": [
       "   Id  MSSubClass  LotFrontage  LotArea  OverallQual  OverallCond  YearBuilt  \\\n",
       "0   1          60         65.0     8450            7            5       2003   \n",
       "1   2          20         80.0     9600            6            8       1976   \n",
       "2   3          60         68.0    11250            7            5       2001   \n",
       "3   4          70         60.0     9550            7            5       1915   \n",
       "4   5          60         84.0    14260            8            5       2000   \n",
       "\n",
       "   YearRemodAdd  MasVnrArea  BsmtFinSF1  ...  SaleType_ConLI  SaleType_ConLw  \\\n",
       "0          2003       196.0         706  ...               0               0   \n",
       "1          1976         0.0         978  ...               0               0   \n",
       "2          2002       162.0         486  ...               0               0   \n",
       "3          1970         0.0         216  ...               0               0   \n",
       "4          2000       350.0         655  ...               0               0   \n",
       "\n",
       "   SaleType_New  SaleType_Oth  SaleType_WD  SaleCondition_AdjLand  \\\n",
       "0             0             0            1                      0   \n",
       "1             0             0            1                      0   \n",
       "2             0             0            1                      0   \n",
       "3             0             0            1                      0   \n",
       "4             0             0            1                      0   \n",
       "\n",
       "   SaleCondition_Alloca  SaleCondition_Family  SaleCondition_Normal  \\\n",
       "0                     0                     0                     1   \n",
       "1                     0                     0                     1   \n",
       "2                     0                     0                     1   \n",
       "3                     0                     0                     0   \n",
       "4                     0                     0                     1   \n",
       "\n",
       "   SaleCondition_Partial  \n",
       "0                      0  \n",
       "1                      0  \n",
       "2                      0  \n",
       "3                      0  \n",
       "4                      0  \n",
       "\n",
       "[5 rows x 247 columns]"
      ]
     },
     "execution_count": 162,
     "metadata": {},
     "output_type": "execute_result"
    }
   ],
   "source": [
    "encoded.head()"
   ]
  },
  {
   "cell_type": "markdown",
   "metadata": {},
   "source": [
    "### 2. Label Encoding\n",
    "Each category is assigned a value from 1 through N where N is the number of categories for the feature/variable.\n",
    "\n",
    "* cons - assigns hierarchy to categories.\n",
    "* pros - computationally cheap."
   ]
  },
  {
   "cell_type": "code",
   "execution_count": 164,
   "metadata": {},
   "outputs": [
    {
     "data": {
      "text/plain": [
       "array(['Normal', 'Abnorml', 'Partial', 'AdjLand', 'Alloca', 'Family'],\n",
       "      dtype=object)"
      ]
     },
     "execution_count": 164,
     "metadata": {},
     "output_type": "execute_result"
    }
   ],
   "source": [
    "data['SaleCondition'].unique()"
   ]
  },
  {
   "cell_type": "code",
   "execution_count": 165,
   "metadata": {},
   "outputs": [
    {
     "name": "stdout",
     "output_type": "stream",
     "text": [
      "0     Normal\n",
      "1     Normal\n",
      "2     Normal\n",
      "3    Abnorml\n",
      "4     Normal\n",
      "Name: SaleCondition, dtype: object\n",
      "0    4\n",
      "1    4\n",
      "2    4\n",
      "3    0\n",
      "4    4\n",
      "Name: sales_transformed, dtype: int64\n"
     ]
    }
   ],
   "source": [
    "# label encoder function\n",
    "from sklearn.preprocessing import LabelEncoder\n",
    "print(data['SaleCondition'].head())\n",
    "\n",
    "le = LabelEncoder()\n",
    "data['sales_transformed'] = le.fit_transform(data['SaleCondition'])\n",
    "print(data['sales_transformed'].head())"
   ]
  },
  {
   "cell_type": "code",
   "execution_count": 166,
   "metadata": {},
   "outputs": [
    {
     "data": {
      "text/plain": [
       "array([4, 0, 5, 1, 2, 3])"
      ]
     },
     "execution_count": 166,
     "metadata": {},
     "output_type": "execute_result"
    }
   ],
   "source": [
    "data['sales_transformed'].unique()"
   ]
  },
  {
   "cell_type": "markdown",
   "metadata": {},
   "source": [
    "### 3. Simple Replacing\n",
    "Replacing categories with desired numerical values."
   ]
  },
  {
   "cell_type": "code",
   "execution_count": 167,
   "metadata": {},
   "outputs": [
    {
     "name": "stdout",
     "output_type": "stream",
     "text": [
      "entries before encoding: ['Normal' 'Abnorml' 'Partial' 'AdjLand' 'Alloca' 'Family']\n",
      "entries after encoding: [1 2 3 4 5]\n"
     ]
    }
   ],
   "source": [
    "# customised function\n",
    "print('entries before encoding:', data['SaleCondition'].unique())\n",
    "\n",
    "data['SaleCondition'] = data['SaleCondition'].replace({'Normal':1, 'Abnorml':2, 'Partial':3, \n",
    "                                                       'AdjLand':4, 'Alloca':5, 'Family':5})\n",
    "\n",
    "print('entries after encoding:', data['SaleCondition'].unique())"
   ]
  },
  {
   "cell_type": "code",
   "execution_count": null,
   "metadata": {},
   "outputs": [],
   "source": []
  },
  {
   "cell_type": "markdown",
   "metadata": {},
   "source": [
    "## C. Standardisation and Normalisation\n",
    "> **Normalization** usually means to scale a variable to have a values between 0 and 1, while **standardization** transforms data to have a mean of zero and a standard deviation of 1.\n",
    "\n",
    "> The result of **standardization** (or Z-score normalization) is that the features will be rescaled to ensure the mean and the standard deviation to be 0 and 1, respectively.\n",
    "<img src=\"https://miro.medium.com/max/1400/1*xIilonr1kVdoQRRvcpc1ng.png\">\n",
    "\n",
    "> This technique is to re-scale features value with the distribution value between 0 and 1 is useful for the optimization algorithms, such as gradient descent, that are used within machine learning algorithms that weight inputs (e.g., regression and neural networks). \n",
    "> Rescaling is also used for algorithms that use distance measurements, for example, K-Nearest-Neighbours (KNN).\n",
    "\n",
    "> Variables that are measured at different scales do not contribute equally to the analysis and might end up creating a bais. (End goal is to get a uniform scale for all the numerical variables)."
   ]
  },
  {
   "cell_type": "markdown",
   "metadata": {},
   "source": [
    "### 0. Log Transformation"
   ]
  },
  {
   "cell_type": "code",
   "execution_count": 171,
   "metadata": {},
   "outputs": [
    {
     "data": {
      "text/plain": [
       "[Text(0.5, 1.0, 'SalePrice distribution before transformation')]"
      ]
     },
     "execution_count": 171,
     "metadata": {},
     "output_type": "execute_result"
    },
    {
     "data": {
      "image/png": "[encoded data removed]",
      "text/plain": [
       "<Figure size 432x360 with 1 Axes>"
      ]
     },
     "metadata": {
      "needs_background": "light"
     },
     "output_type": "display_data"
    }
   ],
   "source": [
    "f, ax = plt.subplots(figsize=(6, 5))\n",
    "sns.distplot(data['SalePrice'], bins = 20, color = 'Magenta')\n",
    "ax.set(ylabel=\"Frequency\")\n",
    "ax.set(xlabel=\"SalePrice\")\n",
    "ax.set(title=\"SalePrice distribution before transformation\")"
   ]
  },
  {
   "cell_type": "code",
   "execution_count": 172,
   "metadata": {},
   "outputs": [
    {
     "data": {
      "text/plain": [
       "[Text(0.5, 1.0, 'SalePrice distribution after log transformation')]"
      ]
     },
     "execution_count": 172,
     "metadata": {},
     "output_type": "execute_result"
    },
    {
     "data": {
      "image/png": "[encoded data removed]",
      "text/plain": [
       "<Figure size 504x360 with 1 Axes>"
      ]
     },
     "metadata": {
      "needs_background": "light"
     },
     "output_type": "display_data"
    }
   ],
   "source": [
    "# log transformation\n",
    "'''returns an array with natural logarithmic value of x + 1. \n",
    "The plus 1 formulae is used because they're more accurate for smaller values '''\n",
    "data1 = data.copy()\n",
    "data1['SalePrice'] = np.log1p(data1['SalePrice'])\n",
    "\n",
    "f, ax = plt.subplots(figsize=(7, 5))\n",
    "sns.distplot(data1['SalePrice'], bins = 20, color = 'Magenta')\n",
    "ax.set(ylabel=\"Frequency\")\n",
    "ax.set(xlabel=\"Age\")\n",
    "ax.set(title=\"SalePrice distribution after log transformation\")"
   ]
  },
  {
   "cell_type": "code",
   "execution_count": 122,
   "metadata": {},
   "outputs": [],
   "source": [
    "# # boxcox transformation\n",
    "# from scipy.stats import skew, norm\n",
    "# from scipy.special import boxcox1p\n",
    "# from scipy.stats import boxcox_normmax\n",
    "\n",
    "# data2 = data.copy()\n",
    "# data2['SalePrice'] = boxcox1p(data2['SalePrice'], boxcox_normmax(data2['SalePrice'] + 1))\n",
    "\n",
    "# f, ax = plt.subplots(figsize=(7, 5))\n",
    "# sns.distplot(data1['SalePrice'], bins = 20, color = 'Magenta')\n",
    "# ax.set(ylabel=\"Frequency\")\n",
    "# ax.set(xlabel=\"Age\")\n",
    "# ax.set(title=\"Age distribution after box cox transformation\")"
   ]
  },
  {
   "cell_type": "markdown",
   "metadata": {},
   "source": [
    "### 1. Standard Scaler\n",
    "StandardScaler removes the mean (0) and scales the data to unit variance(1). However, the outliers have an influence when computing the empirical mean and standard deviation which shrink the range of the feature.\n",
    "\n",
    "** Mean is used to compute the standardised output.\n",
    "\n",
    "StandardScaler therefore cannot guarantee balanced feature scales in the presence of outliers."
   ]
  },
  {
   "cell_type": "code",
   "execution_count": 173,
   "metadata": {},
   "outputs": [
    {
     "name": "stdout",
     "output_type": "stream",
     "text": [
      "[[1.0e+02 1.0e-03]\n",
      " [8.0e+00 5.0e-02]\n",
      " [5.0e+01 5.0e-03]\n",
      " [8.8e+01 7.0e-02]\n",
      " [4.0e+00 1.0e-01]]\n",
      "[[ 1.26398112 -1.16389967]\n",
      " [-1.06174414  0.12639634]\n",
      " [ 0.         -1.05856939]\n",
      " [ 0.96062565  0.65304778]\n",
      " [-1.16286263  1.44302493]]\n"
     ]
    }
   ],
   "source": [
    "# define data\n",
    "data = np.array([[100, 0.001],\n",
    "                [8, 0.05],\n",
    "                [50, 0.005],\n",
    "                [88, 0.07],\n",
    "                [4, 0.1]])\n",
    "\n",
    "print(data)\n",
    "\n",
    "# define standard scaler\n",
    "from sklearn.preprocessing import StandardScaler\n",
    "scaler = StandardScaler()\n",
    "# transform data\n",
    "scaled = scaler.fit_transform(data)\n",
    "print(scaled)"
   ]
  },
  {
   "cell_type": "markdown",
   "metadata": {},
   "source": [
    "### 2. MinMax Scaler\n",
    "MinMaxScaler rescales the data set such that all feature values are in the range [0, 1].\n",
    "\n",
    "A MinMaxScaler is very sensitive to the presence of outliers."
   ]
  },
  {
   "cell_type": "code",
   "execution_count": 174,
   "metadata": {},
   "outputs": [
    {
     "name": "stdout",
     "output_type": "stream",
     "text": [
      "[[1.         0.        ]\n",
      " [0.04166667 0.49494949]\n",
      " [0.47916667 0.04040404]\n",
      " [0.875      0.6969697 ]\n",
      " [0.         1.        ]]\n"
     ]
    }
   ],
   "source": [
    "# define min max scaler\n",
    "from sklearn.preprocessing import MinMaxScaler\n",
    "scaler = MinMaxScaler()\n",
    "# transform data\n",
    "scaled = scaler.fit_transform(data)\n",
    "print(scaled)"
   ]
  },
  {
   "cell_type": "markdown",
   "metadata": {},
   "source": [
    "### 3. Robust Scaler\n",
    "This Scaler removes the median and scales the data according to the quantile range (defaults to IQR: Interquartile Range). The IQR is the range between the 1st quartile (25th quantile) and the 3rd quartile (75th quantile)."
   ]
  },
  {
   "cell_type": "code",
   "execution_count": 127,
   "metadata": {},
   "outputs": [
    {
     "name": "stdout",
     "output_type": "stream",
     "text": [
      "[[ 0.625      -0.75384615]\n",
      " [-0.525       0.        ]\n",
      " [ 0.         -0.69230769]\n",
      " [ 0.475       0.30769231]\n",
      " [-0.575       0.76923077]]\n"
     ]
    }
   ],
   "source": [
    "# define robust scaler\n",
    "from sklearn.preprocessing import RobustScaler\n",
    "scaler = RobustScaler()\n",
    "\n",
    "# transform data\n",
    "scaled = scaler.fit_transform(data)\n",
    "print(scaled)"
   ]
  },
  {
   "cell_type": "code",
   "execution_count": null,
   "metadata": {},
   "outputs": [],
   "source": []
  },
  {
   "cell_type": "markdown",
   "metadata": {},
   "source": [
    "## D. Feature Generation\n",
    "Generating new features based on the ones available."
   ]
  },
  {
   "cell_type": "code",
   "execution_count": 192,
   "metadata": {},
   "outputs": [
    {
     "data": {
      "text/html": [
       "<div>\n",
       "<style scoped>\n",
       "    .dataframe tbody tr th:only-of-type {\n",
       "        vertical-align: middle;\n",
       "    }\n",
       "\n",
       "    .dataframe tbody tr th {\n",
       "        vertical-align: top;\n",
       "    }\n",
       "\n",
       "    .dataframe thead th {\n",
       "        text-align: right;\n",
       "    }\n",
       "</style>\n",
       "<table border=\"1\" class=\"dataframe\">\n",
       "  <thead>\n",
       "    <tr style=\"text-align: right;\">\n",
       "      <th></th>\n",
       "      <th>Store</th>\n",
       "      <th>DayOfWeek</th>\n",
       "      <th>Date</th>\n",
       "      <th>Sales</th>\n",
       "      <th>Customers</th>\n",
       "      <th>Open</th>\n",
       "      <th>Promo</th>\n",
       "      <th>StateHoliday</th>\n",
       "      <th>SchoolHoliday</th>\n",
       "    </tr>\n",
       "  </thead>\n",
       "  <tbody>\n",
       "    <tr>\n",
       "      <td>248429</td>\n",
       "      <td>991</td>\n",
       "      <td>5</td>\n",
       "      <td>2014-12-19</td>\n",
       "      <td>8357</td>\n",
       "      <td>712</td>\n",
       "      <td>1</td>\n",
       "      <td>1</td>\n",
       "      <td>0</td>\n",
       "      <td>0</td>\n",
       "    </tr>\n",
       "    <tr>\n",
       "      <td>539953</td>\n",
       "      <td>1079</td>\n",
       "      <td>3</td>\n",
       "      <td>2014-03-05</td>\n",
       "      <td>11326</td>\n",
       "      <td>828</td>\n",
       "      <td>1</td>\n",
       "      <td>1</td>\n",
       "      <td>0</td>\n",
       "      <td>0</td>\n",
       "    </tr>\n",
       "    <tr>\n",
       "      <td>149354</td>\n",
       "      <td>1060</td>\n",
       "      <td>5</td>\n",
       "      <td>2015-03-20</td>\n",
       "      <td>7969</td>\n",
       "      <td>877</td>\n",
       "      <td>1</td>\n",
       "      <td>1</td>\n",
       "      <td>0</td>\n",
       "      <td>0</td>\n",
       "    </tr>\n",
       "    <tr>\n",
       "      <td>95824</td>\n",
       "      <td>1050</td>\n",
       "      <td>4</td>\n",
       "      <td>2015-05-07</td>\n",
       "      <td>7827</td>\n",
       "      <td>535</td>\n",
       "      <td>1</td>\n",
       "      <td>1</td>\n",
       "      <td>0</td>\n",
       "      <td>0</td>\n",
       "    </tr>\n",
       "    <tr>\n",
       "      <td>346297</td>\n",
       "      <td>624</td>\n",
       "      <td>5</td>\n",
       "      <td>2014-09-05</td>\n",
       "      <td>7003</td>\n",
       "      <td>736</td>\n",
       "      <td>1</td>\n",
       "      <td>1</td>\n",
       "      <td>0</td>\n",
       "      <td>0</td>\n",
       "    </tr>\n",
       "  </tbody>\n",
       "</table>\n",
       "</div>"
      ],
      "text/plain": [
       "        Store  DayOfWeek        Date  Sales  Customers  Open  Promo  \\\n",
       "248429    991          5  2014-12-19   8357        712     1      1   \n",
       "539953   1079          3  2014-03-05  11326        828     1      1   \n",
       "149354   1060          5  2015-03-20   7969        877     1      1   \n",
       "95824    1050          4  2015-05-07   7827        535     1      1   \n",
       "346297    624          5  2014-09-05   7003        736     1      1   \n",
       "\n",
       "       StateHoliday  SchoolHoliday  \n",
       "248429            0              0  \n",
       "539953            0              0  \n",
       "149354            0              0  \n",
       "95824             0              0  \n",
       "346297            0              0  "
      ]
     },
     "execution_count": 192,
     "metadata": {},
     "output_type": "execute_result"
    }
   ],
   "source": [
    "data = pd.read_csv(\"/home/ada/teacherOn/Ola McCartney/Intermediate ML/datasets/trains.csv\")\n",
    "data.sample(5)"
   ]
  },
  {
   "cell_type": "markdown",
   "metadata": {},
   "source": [
    "### Extraction from datetime columns"
   ]
  },
  {
   "cell_type": "code",
   "execution_count": 193,
   "metadata": {},
   "outputs": [
    {
     "name": "stdout",
     "output_type": "stream",
     "text": [
      "dtype before conversion object\n",
      "dtype after conversion datetime64[ns]\n"
     ]
    }
   ],
   "source": [
    "# feature generation from date columns\n",
    "print('dtype before conversion', data['Date'].dtype)\n",
    "\n",
    "#changing the date column dtype to datetime\n",
    "data['Date'] = pd.to_datetime(data['Date'])\n",
    "\n",
    "print('dtype after conversion', data['Date'].dtype)\n",
    "\n",
    "# data['Date'].head()"
   ]
  },
  {
   "cell_type": "code",
   "execution_count": 194,
   "metadata": {},
   "outputs": [],
   "source": [
    "# feature extraction/generation\n",
    "\n",
    "data['Month'] = data['Date'].dt.month.to_list()\n",
    "data['Year'] = data['Date'].dt.year.to_list()\n",
    "data['Day'] = data['Date'].dt.day.to_list()\n",
    "data['WeekOfYear'] = data['Date'].dt.weekofyear.to_list()\n",
    "data['DayOfWeek'] = data['Date'].dt.dayofweek.to_list()\n",
    "\n",
    "# weekday or not weekday\n",
    "data['weekday'] = 1        # Initialize the column with default value of 1\n",
    "data.loc[data['DayOfWeek'] == 5, 'weekday'] = 0\n",
    "data.loc[data['DayOfWeek'] == 6, 'weekday'] = 0"
   ]
  },
  {
   "cell_type": "code",
   "execution_count": 180,
   "metadata": {},
   "outputs": [],
   "source": [
    "# data.sample(5)"
   ]
  },
  {
   "cell_type": "code",
   "execution_count": 195,
   "metadata": {},
   "outputs": [
    {
     "data": {
      "text/plain": [
       "Index(['Store', 'DayOfWeek', 'Date', 'Sales', 'Customers', 'Open', 'Promo',\n",
       "       'StateHoliday', 'SchoolHoliday', 'Month', 'Year', 'Day', 'WeekOfYear',\n",
       "       'weekday'],\n",
       "      dtype='object')"
      ]
     },
     "execution_count": 195,
     "metadata": {},
     "output_type": "execute_result"
    }
   ],
   "source": [
    "data.columns"
   ]
  },
  {
   "cell_type": "markdown",
   "metadata": {},
   "source": [
    "### Extraction from arithmetic operations"
   ]
  },
  {
   "cell_type": "code",
   "execution_count": 196,
   "metadata": {},
   "outputs": [],
   "source": [
    "data['customer_sales_ration'] = data['Customers'] / data['Sales']"
   ]
  },
  {
   "cell_type": "code",
   "execution_count": 197,
   "metadata": {},
   "outputs": [
    {
     "data": {
      "text/html": [
       "<div>\n",
       "<style scoped>\n",
       "    .dataframe tbody tr th:only-of-type {\n",
       "        vertical-align: middle;\n",
       "    }\n",
       "\n",
       "    .dataframe tbody tr th {\n",
       "        vertical-align: top;\n",
       "    }\n",
       "\n",
       "    .dataframe thead th {\n",
       "        text-align: right;\n",
       "    }\n",
       "</style>\n",
       "<table border=\"1\" class=\"dataframe\">\n",
       "  <thead>\n",
       "    <tr style=\"text-align: right;\">\n",
       "      <th></th>\n",
       "      <th>Store</th>\n",
       "      <th>DayOfWeek</th>\n",
       "      <th>Date</th>\n",
       "      <th>Sales</th>\n",
       "      <th>Customers</th>\n",
       "      <th>Open</th>\n",
       "      <th>Promo</th>\n",
       "      <th>StateHoliday</th>\n",
       "      <th>SchoolHoliday</th>\n",
       "      <th>Month</th>\n",
       "      <th>Year</th>\n",
       "      <th>Day</th>\n",
       "      <th>WeekOfYear</th>\n",
       "      <th>weekday</th>\n",
       "      <th>customer_sales_ration</th>\n",
       "    </tr>\n",
       "  </thead>\n",
       "  <tbody>\n",
       "    <tr>\n",
       "      <td>0</td>\n",
       "      <td>1</td>\n",
       "      <td>4</td>\n",
       "      <td>2015-07-31</td>\n",
       "      <td>5263</td>\n",
       "      <td>555</td>\n",
       "      <td>1</td>\n",
       "      <td>1</td>\n",
       "      <td>0</td>\n",
       "      <td>1</td>\n",
       "      <td>7</td>\n",
       "      <td>2015</td>\n",
       "      <td>31</td>\n",
       "      <td>31</td>\n",
       "      <td>1</td>\n",
       "      <td>0.105453</td>\n",
       "    </tr>\n",
       "    <tr>\n",
       "      <td>1</td>\n",
       "      <td>2</td>\n",
       "      <td>4</td>\n",
       "      <td>2015-07-31</td>\n",
       "      <td>6064</td>\n",
       "      <td>625</td>\n",
       "      <td>1</td>\n",
       "      <td>1</td>\n",
       "      <td>0</td>\n",
       "      <td>1</td>\n",
       "      <td>7</td>\n",
       "      <td>2015</td>\n",
       "      <td>31</td>\n",
       "      <td>31</td>\n",
       "      <td>1</td>\n",
       "      <td>0.103067</td>\n",
       "    </tr>\n",
       "    <tr>\n",
       "      <td>2</td>\n",
       "      <td>3</td>\n",
       "      <td>4</td>\n",
       "      <td>2015-07-31</td>\n",
       "      <td>8314</td>\n",
       "      <td>821</td>\n",
       "      <td>1</td>\n",
       "      <td>1</td>\n",
       "      <td>0</td>\n",
       "      <td>1</td>\n",
       "      <td>7</td>\n",
       "      <td>2015</td>\n",
       "      <td>31</td>\n",
       "      <td>31</td>\n",
       "      <td>1</td>\n",
       "      <td>0.098749</td>\n",
       "    </tr>\n",
       "    <tr>\n",
       "      <td>3</td>\n",
       "      <td>4</td>\n",
       "      <td>4</td>\n",
       "      <td>2015-07-31</td>\n",
       "      <td>13995</td>\n",
       "      <td>1498</td>\n",
       "      <td>1</td>\n",
       "      <td>1</td>\n",
       "      <td>0</td>\n",
       "      <td>1</td>\n",
       "      <td>7</td>\n",
       "      <td>2015</td>\n",
       "      <td>31</td>\n",
       "      <td>31</td>\n",
       "      <td>1</td>\n",
       "      <td>0.107038</td>\n",
       "    </tr>\n",
       "    <tr>\n",
       "      <td>4</td>\n",
       "      <td>5</td>\n",
       "      <td>4</td>\n",
       "      <td>2015-07-31</td>\n",
       "      <td>4822</td>\n",
       "      <td>559</td>\n",
       "      <td>1</td>\n",
       "      <td>1</td>\n",
       "      <td>0</td>\n",
       "      <td>1</td>\n",
       "      <td>7</td>\n",
       "      <td>2015</td>\n",
       "      <td>31</td>\n",
       "      <td>31</td>\n",
       "      <td>1</td>\n",
       "      <td>0.115927</td>\n",
       "    </tr>\n",
       "  </tbody>\n",
       "</table>\n",
       "</div>"
      ],
      "text/plain": [
       "   Store  DayOfWeek       Date  Sales  Customers  Open  Promo StateHoliday  \\\n",
       "0      1          4 2015-07-31   5263        555     1      1            0   \n",
       "1      2          4 2015-07-31   6064        625     1      1            0   \n",
       "2      3          4 2015-07-31   8314        821     1      1            0   \n",
       "3      4          4 2015-07-31  13995       1498     1      1            0   \n",
       "4      5          4 2015-07-31   4822        559     1      1            0   \n",
       "\n",
       "   SchoolHoliday  Month  Year  Day  WeekOfYear  weekday  customer_sales_ration  \n",
       "0              1      7  2015   31          31        1               0.105453  \n",
       "1              1      7  2015   31          31        1               0.103067  \n",
       "2              1      7  2015   31          31        1               0.098749  \n",
       "3              1      7  2015   31          31        1               0.107038  \n",
       "4              1      7  2015   31          31        1               0.115927  "
      ]
     },
     "execution_count": 197,
     "metadata": {},
     "output_type": "execute_result"
    }
   ],
   "source": [
    "data.head()"
   ]
  },
  {
   "cell_type": "markdown",
   "metadata": {},
   "source": [
    "### Conditional Feature Generation"
   ]
  },
  {
   "cell_type": "code",
   "execution_count": 60,
   "metadata": {},
   "outputs": [],
   "source": [
    "data['double_holiday'] = 0\n",
    "data.loc[(data['StateHoliday'] == 1) & (data['SchoolHoliday'] == 1), 'double_holiday'] = 1"
   ]
  },
  {
   "cell_type": "code",
   "execution_count": 198,
   "metadata": {},
   "outputs": [
    {
     "data": {
      "text/plain": [
       "(1017209, 15)"
      ]
     },
     "execution_count": 198,
     "metadata": {},
     "output_type": "execute_result"
    }
   ],
   "source": [
    "data.shape"
   ]
  },
  {
   "cell_type": "code",
   "execution_count": null,
   "metadata": {},
   "outputs": [],
   "source": []
  },
  {
   "cell_type": "markdown",
   "metadata": {},
   "source": [
    "## E. Feature Selection"
   ]
  },
  {
   "cell_type": "code",
   "execution_count": 190,
   "metadata": {},
   "outputs": [
    {
     "data": {
      "text/html": [
       "<div>\n",
       "<style scoped>\n",
       "    .dataframe tbody tr th:only-of-type {\n",
       "        vertical-align: middle;\n",
       "    }\n",
       "\n",
       "    .dataframe tbody tr th {\n",
       "        vertical-align: top;\n",
       "    }\n",
       "\n",
       "    .dataframe thead th {\n",
       "        text-align: right;\n",
       "    }\n",
       "</style>\n",
       "<table border=\"1\" class=\"dataframe\">\n",
       "  <thead>\n",
       "    <tr style=\"text-align: right;\">\n",
       "      <th></th>\n",
       "      <th>Store</th>\n",
       "      <th>DayOfWeek</th>\n",
       "      <th>Date</th>\n",
       "      <th>Sales</th>\n",
       "      <th>Customers</th>\n",
       "      <th>Open</th>\n",
       "      <th>Promo</th>\n",
       "      <th>StateHoliday</th>\n",
       "      <th>SchoolHoliday</th>\n",
       "      <th>customer_sales_ration</th>\n",
       "    </tr>\n",
       "  </thead>\n",
       "  <tbody>\n",
       "    <tr>\n",
       "      <td>0</td>\n",
       "      <td>1</td>\n",
       "      <td>5</td>\n",
       "      <td>2015-07-31</td>\n",
       "      <td>5263</td>\n",
       "      <td>555</td>\n",
       "      <td>1</td>\n",
       "      <td>1</td>\n",
       "      <td>0</td>\n",
       "      <td>1</td>\n",
       "      <td>0.105453</td>\n",
       "    </tr>\n",
       "    <tr>\n",
       "      <td>1</td>\n",
       "      <td>2</td>\n",
       "      <td>5</td>\n",
       "      <td>2015-07-31</td>\n",
       "      <td>6064</td>\n",
       "      <td>625</td>\n",
       "      <td>1</td>\n",
       "      <td>1</td>\n",
       "      <td>0</td>\n",
       "      <td>1</td>\n",
       "      <td>0.103067</td>\n",
       "    </tr>\n",
       "    <tr>\n",
       "      <td>2</td>\n",
       "      <td>3</td>\n",
       "      <td>5</td>\n",
       "      <td>2015-07-31</td>\n",
       "      <td>8314</td>\n",
       "      <td>821</td>\n",
       "      <td>1</td>\n",
       "      <td>1</td>\n",
       "      <td>0</td>\n",
       "      <td>1</td>\n",
       "      <td>0.098749</td>\n",
       "    </tr>\n",
       "    <tr>\n",
       "      <td>3</td>\n",
       "      <td>4</td>\n",
       "      <td>5</td>\n",
       "      <td>2015-07-31</td>\n",
       "      <td>13995</td>\n",
       "      <td>1498</td>\n",
       "      <td>1</td>\n",
       "      <td>1</td>\n",
       "      <td>0</td>\n",
       "      <td>1</td>\n",
       "      <td>0.107038</td>\n",
       "    </tr>\n",
       "    <tr>\n",
       "      <td>4</td>\n",
       "      <td>5</td>\n",
       "      <td>5</td>\n",
       "      <td>2015-07-31</td>\n",
       "      <td>4822</td>\n",
       "      <td>559</td>\n",
       "      <td>1</td>\n",
       "      <td>1</td>\n",
       "      <td>0</td>\n",
       "      <td>1</td>\n",
       "      <td>0.115927</td>\n",
       "    </tr>\n",
       "  </tbody>\n",
       "</table>\n",
       "</div>"
      ],
      "text/plain": [
       "   Store  DayOfWeek       Date  Sales  Customers  Open  Promo StateHoliday  \\\n",
       "0      1          5 2015-07-31   5263        555     1      1            0   \n",
       "1      2          5 2015-07-31   6064        625     1      1            0   \n",
       "2      3          5 2015-07-31   8314        821     1      1            0   \n",
       "3      4          5 2015-07-31  13995       1498     1      1            0   \n",
       "4      5          5 2015-07-31   4822        559     1      1            0   \n",
       "\n",
       "   SchoolHoliday  customer_sales_ration  \n",
       "0              1               0.105453  \n",
       "1              1               0.103067  \n",
       "2              1               0.098749  \n",
       "3              1               0.107038  \n",
       "4              1               0.115927  "
      ]
     },
     "execution_count": 190,
     "metadata": {},
     "output_type": "execute_result"
    }
   ],
   "source": [
    "data.head()"
   ]
  },
  {
   "cell_type": "code",
   "execution_count": 201,
   "metadata": {},
   "outputs": [
    {
     "data": {
      "text/plain": [
       "(1017209, 13)"
      ]
     },
     "execution_count": 201,
     "metadata": {},
     "output_type": "execute_result"
    }
   ],
   "source": [
    "# # droping useless columns\n",
    "data = data.drop(['Date', 'Store'], axis = 1)\n",
    "# data = data.drop(['Store'], axis = 1)\n",
    "data.shape"
   ]
  },
  {
   "cell_type": "code",
   "execution_count": 70,
   "metadata": {},
   "outputs": [
    {
     "data": {
      "text/html": [
       "<div>\n",
       "<style scoped>\n",
       "    .dataframe tbody tr th:only-of-type {\n",
       "        vertical-align: middle;\n",
       "    }\n",
       "\n",
       "    .dataframe tbody tr th {\n",
       "        vertical-align: top;\n",
       "    }\n",
       "\n",
       "    .dataframe thead th {\n",
       "        text-align: right;\n",
       "    }\n",
       "</style>\n",
       "<table border=\"1\" class=\"dataframe\">\n",
       "  <thead>\n",
       "    <tr style=\"text-align: right;\">\n",
       "      <th></th>\n",
       "      <th>DayOfWeek</th>\n",
       "      <th>Sales</th>\n",
       "      <th>Customers</th>\n",
       "      <th>Open</th>\n",
       "      <th>Promo</th>\n",
       "      <th>SchoolHoliday</th>\n",
       "      <th>Month</th>\n",
       "      <th>Year</th>\n",
       "      <th>Day</th>\n",
       "      <th>WeekOfYear</th>\n",
       "      <th>weekday</th>\n",
       "      <th>customer_sales_ration</th>\n",
       "      <th>double_holiday</th>\n",
       "    </tr>\n",
       "  </thead>\n",
       "  <tbody>\n",
       "    <tr>\n",
       "      <td>DayOfWeek</td>\n",
       "      <td>1.000000</td>\n",
       "      <td>-0.462125</td>\n",
       "      <td>-0.386445</td>\n",
       "      <td>-0.528963</td>\n",
       "      <td>-0.392925</td>\n",
       "      <td>-0.205388</td>\n",
       "      <td>-0.005362</td>\n",
       "      <td>0.001937</td>\n",
       "      <td>0.005136</td>\n",
       "      <td>-0.004880</td>\n",
       "      <td>-0.789894</td>\n",
       "      <td>0.078349</td>\n",
       "      <td>NaN</td>\n",
       "    </tr>\n",
       "    <tr>\n",
       "      <td>Sales</td>\n",
       "      <td>-0.462125</td>\n",
       "      <td>1.000000</td>\n",
       "      <td>0.894711</td>\n",
       "      <td>0.678472</td>\n",
       "      <td>0.452345</td>\n",
       "      <td>0.085124</td>\n",
       "      <td>0.048768</td>\n",
       "      <td>0.023519</td>\n",
       "      <td>-0.011612</td>\n",
       "      <td>0.052946</td>\n",
       "      <td>0.450152</td>\n",
       "      <td>-0.133304</td>\n",
       "      <td>NaN</td>\n",
       "    </tr>\n",
       "    <tr>\n",
       "      <td>Customers</td>\n",
       "      <td>-0.386445</td>\n",
       "      <td>0.894711</td>\n",
       "      <td>1.000000</td>\n",
       "      <td>0.616768</td>\n",
       "      <td>0.316169</td>\n",
       "      <td>0.071568</td>\n",
       "      <td>0.038179</td>\n",
       "      <td>-0.001212</td>\n",
       "      <td>-0.004473</td>\n",
       "      <td>0.041404</td>\n",
       "      <td>0.389334</td>\n",
       "      <td>0.397597</td>\n",
       "      <td>NaN</td>\n",
       "    </tr>\n",
       "    <tr>\n",
       "      <td>Open</td>\n",
       "      <td>-0.528963</td>\n",
       "      <td>0.678472</td>\n",
       "      <td>0.616768</td>\n",
       "      <td>1.000000</td>\n",
       "      <td>0.295042</td>\n",
       "      <td>0.086171</td>\n",
       "      <td>-0.000681</td>\n",
       "      <td>-0.001009</td>\n",
       "      <td>0.033428</td>\n",
       "      <td>0.004792</td>\n",
       "      <td>0.537427</td>\n",
       "      <td>NaN</td>\n",
       "      <td>NaN</td>\n",
       "    </tr>\n",
       "    <tr>\n",
       "      <td>Promo</td>\n",
       "      <td>-0.392925</td>\n",
       "      <td>0.452345</td>\n",
       "      <td>0.316169</td>\n",
       "      <td>0.295042</td>\n",
       "      <td>1.000000</td>\n",
       "      <td>0.067483</td>\n",
       "      <td>-0.011747</td>\n",
       "      <td>0.024300</td>\n",
       "      <td>-0.108325</td>\n",
       "      <td>0.000572</td>\n",
       "      <td>0.495330</td>\n",
       "      <td>-0.251725</td>\n",
       "      <td>NaN</td>\n",
       "    </tr>\n",
       "    <tr>\n",
       "      <td>SchoolHoliday</td>\n",
       "      <td>-0.205388</td>\n",
       "      <td>0.085124</td>\n",
       "      <td>0.071568</td>\n",
       "      <td>0.086171</td>\n",
       "      <td>0.067483</td>\n",
       "      <td>1.000000</td>\n",
       "      <td>0.103282</td>\n",
       "      <td>-0.036535</td>\n",
       "      <td>0.030538</td>\n",
       "      <td>0.071052</td>\n",
       "      <td>0.263140</td>\n",
       "      <td>-0.012944</td>\n",
       "      <td>NaN</td>\n",
       "    </tr>\n",
       "    <tr>\n",
       "      <td>Month</td>\n",
       "      <td>-0.005362</td>\n",
       "      <td>0.048768</td>\n",
       "      <td>0.038179</td>\n",
       "      <td>-0.000681</td>\n",
       "      <td>-0.011747</td>\n",
       "      <td>0.103282</td>\n",
       "      <td>1.000000</td>\n",
       "      <td>-0.269382</td>\n",
       "      <td>0.012442</td>\n",
       "      <td>0.967034</td>\n",
       "      <td>-0.001023</td>\n",
       "      <td>-0.014513</td>\n",
       "      <td>NaN</td>\n",
       "    </tr>\n",
       "    <tr>\n",
       "      <td>Year</td>\n",
       "      <td>0.001937</td>\n",
       "      <td>0.023519</td>\n",
       "      <td>-0.001212</td>\n",
       "      <td>-0.001009</td>\n",
       "      <td>0.024300</td>\n",
       "      <td>-0.036535</td>\n",
       "      <td>-0.269382</td>\n",
       "      <td>1.000000</td>\n",
       "      <td>-0.002485</td>\n",
       "      <td>-0.256619</td>\n",
       "      <td>0.001444</td>\n",
       "      <td>-0.066564</td>\n",
       "      <td>NaN</td>\n",
       "    </tr>\n",
       "    <tr>\n",
       "      <td>Day</td>\n",
       "      <td>0.005136</td>\n",
       "      <td>-0.011612</td>\n",
       "      <td>-0.004473</td>\n",
       "      <td>0.033428</td>\n",
       "      <td>-0.108325</td>\n",
       "      <td>0.030538</td>\n",
       "      <td>0.012442</td>\n",
       "      <td>-0.002485</td>\n",
       "      <td>1.000000</td>\n",
       "      <td>0.069624</td>\n",
       "      <td>0.000314</td>\n",
       "      <td>0.023829</td>\n",
       "      <td>NaN</td>\n",
       "    </tr>\n",
       "    <tr>\n",
       "      <td>WeekOfYear</td>\n",
       "      <td>-0.004880</td>\n",
       "      <td>0.052946</td>\n",
       "      <td>0.041404</td>\n",
       "      <td>0.004792</td>\n",
       "      <td>0.000572</td>\n",
       "      <td>0.071052</td>\n",
       "      <td>0.967034</td>\n",
       "      <td>-0.256619</td>\n",
       "      <td>0.069624</td>\n",
       "      <td>1.000000</td>\n",
       "      <td>0.003417</td>\n",
       "      <td>-0.014579</td>\n",
       "      <td>NaN</td>\n",
       "    </tr>\n",
       "    <tr>\n",
       "      <td>weekday</td>\n",
       "      <td>-0.789894</td>\n",
       "      <td>0.450152</td>\n",
       "      <td>0.389334</td>\n",
       "      <td>0.537427</td>\n",
       "      <td>0.495330</td>\n",
       "      <td>0.263140</td>\n",
       "      <td>-0.001023</td>\n",
       "      <td>0.001444</td>\n",
       "      <td>0.000314</td>\n",
       "      <td>0.003417</td>\n",
       "      <td>1.000000</td>\n",
       "      <td>-0.054815</td>\n",
       "      <td>NaN</td>\n",
       "    </tr>\n",
       "    <tr>\n",
       "      <td>customer_sales_ration</td>\n",
       "      <td>0.078349</td>\n",
       "      <td>-0.133304</td>\n",
       "      <td>0.397597</td>\n",
       "      <td>NaN</td>\n",
       "      <td>-0.251725</td>\n",
       "      <td>-0.012944</td>\n",
       "      <td>-0.014513</td>\n",
       "      <td>-0.066564</td>\n",
       "      <td>0.023829</td>\n",
       "      <td>-0.014579</td>\n",
       "      <td>-0.054815</td>\n",
       "      <td>1.000000</td>\n",
       "      <td>NaN</td>\n",
       "    </tr>\n",
       "    <tr>\n",
       "      <td>double_holiday</td>\n",
       "      <td>NaN</td>\n",
       "      <td>NaN</td>\n",
       "      <td>NaN</td>\n",
       "      <td>NaN</td>\n",
       "      <td>NaN</td>\n",
       "      <td>NaN</td>\n",
       "      <td>NaN</td>\n",
       "      <td>NaN</td>\n",
       "      <td>NaN</td>\n",
       "      <td>NaN</td>\n",
       "      <td>NaN</td>\n",
       "      <td>NaN</td>\n",
       "      <td>NaN</td>\n",
       "    </tr>\n",
       "  </tbody>\n",
       "</table>\n",
       "</div>"
      ],
      "text/plain": [
       "                       DayOfWeek     Sales  Customers      Open     Promo  \\\n",
       "DayOfWeek               1.000000 -0.462125  -0.386445 -0.528963 -0.392925   \n",
       "Sales                  -0.462125  1.000000   0.894711  0.678472  0.452345   \n",
       "Customers              -0.386445  0.894711   1.000000  0.616768  0.316169   \n",
       "Open                   -0.528963  0.678472   0.616768  1.000000  0.295042   \n",
       "Promo                  -0.392925  0.452345   0.316169  0.295042  1.000000   \n",
       "SchoolHoliday          -0.205388  0.085124   0.071568  0.086171  0.067483   \n",
       "Month                  -0.005362  0.048768   0.038179 -0.000681 -0.011747   \n",
       "Year                    0.001937  0.023519  -0.001212 -0.001009  0.024300   \n",
       "Day                     0.005136 -0.011612  -0.004473  0.033428 -0.108325   \n",
       "WeekOfYear             -0.004880  0.052946   0.041404  0.004792  0.000572   \n",
       "weekday                -0.789894  0.450152   0.389334  0.537427  0.495330   \n",
       "customer_sales_ration   0.078349 -0.133304   0.397597       NaN -0.251725   \n",
       "double_holiday               NaN       NaN        NaN       NaN       NaN   \n",
       "\n",
       "                       SchoolHoliday     Month      Year       Day  \\\n",
       "DayOfWeek                  -0.205388 -0.005362  0.001937  0.005136   \n",
       "Sales                       0.085124  0.048768  0.023519 -0.011612   \n",
       "Customers                   0.071568  0.038179 -0.001212 -0.004473   \n",
       "Open                        0.086171 -0.000681 -0.001009  0.033428   \n",
       "Promo                       0.067483 -0.011747  0.024300 -0.108325   \n",
       "SchoolHoliday               1.000000  0.103282 -0.036535  0.030538   \n",
       "Month                       0.103282  1.000000 -0.269382  0.012442   \n",
       "Year                       -0.036535 -0.269382  1.000000 -0.002485   \n",
       "Day                         0.030538  0.012442 -0.002485  1.000000   \n",
       "WeekOfYear                  0.071052  0.967034 -0.256619  0.069624   \n",
       "weekday                     0.263140 -0.001023  0.001444  0.000314   \n",
       "customer_sales_ration      -0.012944 -0.014513 -0.066564  0.023829   \n",
       "double_holiday                   NaN       NaN       NaN       NaN   \n",
       "\n",
       "                       WeekOfYear   weekday  customer_sales_ration  \\\n",
       "DayOfWeek               -0.004880 -0.789894               0.078349   \n",
       "Sales                    0.052946  0.450152              -0.133304   \n",
       "Customers                0.041404  0.389334               0.397597   \n",
       "Open                     0.004792  0.537427                    NaN   \n",
       "Promo                    0.000572  0.495330              -0.251725   \n",
       "SchoolHoliday            0.071052  0.263140              -0.012944   \n",
       "Month                    0.967034 -0.001023              -0.014513   \n",
       "Year                    -0.256619  0.001444              -0.066564   \n",
       "Day                      0.069624  0.000314               0.023829   \n",
       "WeekOfYear               1.000000  0.003417              -0.014579   \n",
       "weekday                  0.003417  1.000000              -0.054815   \n",
       "customer_sales_ration   -0.014579 -0.054815               1.000000   \n",
       "double_holiday                NaN       NaN                    NaN   \n",
       "\n",
       "                       double_holiday  \n",
       "DayOfWeek                         NaN  \n",
       "Sales                             NaN  \n",
       "Customers                         NaN  \n",
       "Open                              NaN  \n",
       "Promo                             NaN  \n",
       "SchoolHoliday                     NaN  \n",
       "Month                             NaN  \n",
       "Year                              NaN  \n",
       "Day                               NaN  \n",
       "WeekOfYear                        NaN  \n",
       "weekday                           NaN  \n",
       "customer_sales_ration             NaN  \n",
       "double_holiday                    NaN  "
      ]
     },
     "execution_count": 70,
     "metadata": {},
     "output_type": "execute_result"
    }
   ],
   "source": [
    "# check for multicolinearity\n",
    "corr = data.corr()\n",
    "corr"
   ]
  },
  {
   "cell_type": "code",
   "execution_count": 202,
   "metadata": {},
   "outputs": [
    {
     "data": {
      "text/plain": [
       "<matplotlib.axes._subplots.AxesSubplot at 0x7fdb015d0fd0>"
      ]
     },
     "execution_count": 202,
     "metadata": {},
     "output_type": "execute_result"
    },
    {
     "data": {
      "image/png": "[encoded data removed]",
      "text/plain": [
       "<Figure size 864x504 with 2 Axes>"
      ]
     },
     "metadata": {
      "needs_background": "light"
     },
     "output_type": "display_data"
    }
   ],
   "source": [
    "plt.figure(figsize = (12,7))\n",
    "sns.heatmap(corr, cmap = 'BuPu')"
   ]
  },
  {
   "cell_type": "code",
   "execution_count": 75,
   "metadata": {},
   "outputs": [
    {
     "data": {
      "text/plain": [
       "(1017209, 13)"
      ]
     },
     "execution_count": 75,
     "metadata": {},
     "output_type": "execute_result"
    }
   ],
   "source": [
    "data = data.drop(['WeekOfYear'], axis = 1)\n",
    "data.shape"
   ]
  },
  {
   "cell_type": "markdown",
   "metadata": {},
   "source": [
    "### Dimensionality Reduction (To e Covered Later in detail.)"
   ]
  },
  {
   "cell_type": "code",
   "execution_count": null,
   "metadata": {},
   "outputs": [],
   "source": []
  },
  {
   "cell_type": "markdown",
   "metadata": {},
   "source": [
    "## F. Handling Noisy Data (Binning)\n",
    "Grouping technique for numerical data. Sometimes ranges maybe more important than actual values. e.g age groups, salary groups, ..."
   ]
  },
  {
   "cell_type": "code",
   "execution_count": 205,
   "metadata": {},
   "outputs": [
    {
     "data": {
      "text/html": [
       "<div>\n",
       "<style scoped>\n",
       "    .dataframe tbody tr th:only-of-type {\n",
       "        vertical-align: middle;\n",
       "    }\n",
       "\n",
       "    .dataframe tbody tr th {\n",
       "        vertical-align: top;\n",
       "    }\n",
       "\n",
       "    .dataframe thead th {\n",
       "        text-align: right;\n",
       "    }\n",
       "</style>\n",
       "<table border=\"1\" class=\"dataframe\">\n",
       "  <thead>\n",
       "    <tr style=\"text-align: right;\">\n",
       "      <th></th>\n",
       "      <th>Store</th>\n",
       "      <th>StoreType</th>\n",
       "      <th>Assortment</th>\n",
       "      <th>CompetitionDistance</th>\n",
       "      <th>CompetitionOpenSinceMonth</th>\n",
       "      <th>CompetitionOpenSinceYear</th>\n",
       "      <th>Promo2</th>\n",
       "      <th>Promo2SinceWeek</th>\n",
       "      <th>Promo2SinceYear</th>\n",
       "      <th>PromoInterval</th>\n",
       "    </tr>\n",
       "  </thead>\n",
       "  <tbody>\n",
       "    <tr>\n",
       "      <td>665</td>\n",
       "      <td>666</td>\n",
       "      <td>c</td>\n",
       "      <td>c</td>\n",
       "      <td>2700.0</td>\n",
       "      <td>NaN</td>\n",
       "      <td>NaN</td>\n",
       "      <td>1</td>\n",
       "      <td>9.0</td>\n",
       "      <td>2011.0</td>\n",
       "      <td>Mar,Jun,Sept,Dec</td>\n",
       "    </tr>\n",
       "    <tr>\n",
       "      <td>462</td>\n",
       "      <td>463</td>\n",
       "      <td>a</td>\n",
       "      <td>a</td>\n",
       "      <td>4160.0</td>\n",
       "      <td>NaN</td>\n",
       "      <td>NaN</td>\n",
       "      <td>0</td>\n",
       "      <td>NaN</td>\n",
       "      <td>NaN</td>\n",
       "      <td>NaN</td>\n",
       "    </tr>\n",
       "  </tbody>\n",
       "</table>\n",
       "</div>"
      ],
      "text/plain": [
       "     Store StoreType Assortment  CompetitionDistance  \\\n",
       "665    666         c          c               2700.0   \n",
       "462    463         a          a               4160.0   \n",
       "\n",
       "     CompetitionOpenSinceMonth  CompetitionOpenSinceYear  Promo2  \\\n",
       "665                        NaN                       NaN       1   \n",
       "462                        NaN                       NaN       0   \n",
       "\n",
       "     Promo2SinceWeek  Promo2SinceYear     PromoInterval  \n",
       "665              9.0           2011.0  Mar,Jun,Sept,Dec  \n",
       "462              NaN              NaN               NaN  "
      ]
     },
     "execution_count": 205,
     "metadata": {},
     "output_type": "execute_result"
    }
   ],
   "source": [
    "data = pd.read_csv(\"/home/ada/teacherOn/Ola McCartney/Intermediate ML/datasets/store.csv\")\n",
    "data.sample(2)"
   ]
  },
  {
   "cell_type": "code",
   "execution_count": 206,
   "metadata": {},
   "outputs": [
    {
     "data": {
      "text/plain": [
       "array([ 0.,  1.,  2.,  3., nan,  4.])"
      ]
     },
     "execution_count": 206,
     "metadata": {},
     "output_type": "execute_result"
    }
   ],
   "source": [
    "# pandas cut methods\n",
    "'''Bins based on actual values. Values are ordered then groupeed.'''\n",
    "\n",
    "data['distance_rank'] = pd.cut(data['CompetitionDistance'], 5, labels = False)  # labels argument takes a list.\n",
    "data['distance_rank'].unique()"
   ]
  },
  {
   "cell_type": "code",
   "execution_count": 207,
   "metadata": {},
   "outputs": [
    {
     "data": {
      "text/plain": [
       "0.0    226\n",
       "4.0    223\n",
       "2.0    221\n",
       "3.0    221\n",
       "1.0    221\n",
       "Name: dist_rank, dtype: int64"
      ]
     },
     "execution_count": 207,
     "metadata": {},
     "output_type": "execute_result"
    }
   ],
   "source": [
    "# pandas qcut method\n",
    "'bins indicate quartile membership'\n",
    "\n",
    "data['dist_rank'] = pd.qcut(data['CompetitionDistance'], 5, labels = False) \n",
    "data['dist_rank'].value_counts()"
   ]
  },
  {
   "cell_type": "code",
   "execution_count": null,
   "metadata": {},
   "outputs": [],
   "source": []
  },
  {
   "cell_type": "markdown",
   "metadata": {},
   "source": [
    "## G. Class Imbalance\n",
    "\n",
    "** To be covered under classification. "
   ]
  },
  {
   "cell_type": "code",
   "execution_count": null,
   "metadata": {},
   "outputs": [],
   "source": []
  }
 ],
 "metadata": {
  "kernelspec": {
   "display_name": "Python 3",
   "language": "python",
   "name": "python3"
  },
  "language_info": {
   "codemirror_mode": {
    "name": "ipython",
    "version": 3
   },
   "file_extension": ".py",
   "mimetype": "text/x-python",
   "name": "python",
   "nbconvert_exporter": "python",
   "pygments_lexer": "ipython3",
   "version": "3.7.4"
  }
 },
 "nbformat": 4,
 "nbformat_minor": 4
}
