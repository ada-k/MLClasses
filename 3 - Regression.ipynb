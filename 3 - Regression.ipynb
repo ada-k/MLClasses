{
 "cells": [
  {
   "cell_type": "markdown",
   "metadata": {},
   "source": [
    "## Supervised Learning (Regression)\n",
    "\n",
    "> **Supervised learning** is a type of Machine Learning invlolving learning a function that maps inputs to outputs based on provided  input-output pairs. Learning == Model Training.\n",
    "\n",
    "<img src = \"https://www.researchgate.net/publication/324426321/figure/fig4/AS:614073280507906@1523417887240/Typical-Flow-chart-of-a-supervised-learning-classification-algorithm.png\" width=\"400\">\n",
    "\n",
    "> **Regression** - a type of supervised learning used to predict continuous (dependent) variable given a set of independent variables. \n",
    "\n",
    "> *Mathematical expression*: **Y = βo + β1X + ∈** where; \n",
    ">   * ...\n",
    "    * Y - Dependent variable(Target, Predicted) - the variable we predict.\n",
    "    * X - Independent variable(predictor) - the variable we use to make a prediction.\n",
    "    * βo - This is the intercept term. It is the prediction value you get when X = 0\n",
    "    * β1 - This is the slope term. It explains the change in Y when X changes by 1 unit.\n",
    "    * ∈ - This represents the residual value, i.e. the difference between actual and predicted values.(error term).\n",
    "    \n",
    ">                       β1 = Σ(xi - xmean)(yi-ymean)/ Σ (xi - xmean)² where i= 1 to n (no. of obs.)\n",
    "\n",
    "                        βo = ymean - β1(xmean)  \n",
    "> expression for multiple regression (when we have more than one predictor variables - typical case): **y = βo + β1x1 + β2x2 + … + βnxn + c.**\n",
    ">   * ...\n",
    "    * βn - This is the slope term. It explains the change in Y when Xn changes by 1 unit.\n",
    " \n",
    "    \n",
    "> **Error term minimisation - Ordinary Least Squares(OLS)** - OLS technique tries to reduce the sum of squared errors ∑[Actual(y) - Predicted(y')]² by finding the best possible value of regression coefficients (β0, β1, etc).\n",
    "> Why OLS:\n",
    "1. It uses squared error which has nice mathematical properties, thereby making it easier to differentiate and compute gradient descent.\n",
    "2. OLS is easy to analyze and computationally faster, i.e. it can be quickly applied to data sets having 1000s of features.\n",
    "3. Interpretation of OLS is much easier than other regression techniques.\n",
    "\n",
    "> **Assumptions**:\n",
    "* ...\n",
    "* There exists a **linear** and **additive** relationship between dependent and independent variables. By linear, it means that the change in DV by 1 unit change in IV is constant. By additive, it refers to the effect of X on Y is independent of other variables.\n",
    "* There must be **no correlation** among independent variables. Presence of correlation in independent variables lead to Multicollinearity. If variables are correlated, it becomes extremely difficult for the model to determine the true effect of IVs on DV.\n",
    "* The error terms must possess constant variance. Absence of constant variance leads to **heteroskedestacity**. (Heteroskedastic refers to a condition in which the variance of the residual term, or error term, in a regression model varies widely. \n",
    "* The error terms must be uncorrelated i.e. error at **∈t** must not indicate the error at **∈t+1**. Presence of correlation in error terms is known as **Autocorrelation**. It drastically affects the regression coefficients and standard error values since they are based on the assumption of uncorrelated error terms.\n",
    "* The dependent variable and the error terms must possess a **normal distribution**.\n",
    "\n",
    "> **Examples of regression problems**:\n",
    "* Prediction of house prices.\n",
    "* Prediction of loan eligibility amount.\n",
    "* Salary prediction."
   ]
  },
  {
   "cell_type": "markdown",
   "metadata": {},
   "source": []
  },
  {
   "cell_type": "markdown",
   "metadata": {},
   "source": [
    "#### SLR Model"
   ]
  },
  {
   "cell_type": "code",
   "execution_count": 2,
   "metadata": {},
   "outputs": [
    {
     "name": "stderr",
     "output_type": "stream",
     "text": [
      "/home/ada/anaconda3/lib/python3.7/site-packages/IPython/core/interactiveshell.py:3058: DtypeWarning: Columns (7) have mixed types. Specify dtype option on import or set low_memory=False.\n",
      "  interactivity=interactivity, compiler=compiler, result=result)\n"
     ]
    },
    {
     "name": "stdout",
     "output_type": "stream",
     "text": [
      "(1017209, 9)\n"
     ]
    },
    {
     "data": {
      "text/html": [
       "<div>\n",
       "<style scoped>\n",
       "    .dataframe tbody tr th:only-of-type {\n",
       "        vertical-align: middle;\n",
       "    }\n",
       "\n",
       "    .dataframe tbody tr th {\n",
       "        vertical-align: top;\n",
       "    }\n",
       "\n",
       "    .dataframe thead th {\n",
       "        text-align: right;\n",
       "    }\n",
       "</style>\n",
       "<table border=\"1\" class=\"dataframe\">\n",
       "  <thead>\n",
       "    <tr style=\"text-align: right;\">\n",
       "      <th></th>\n",
       "      <th>Store</th>\n",
       "      <th>DayOfWeek</th>\n",
       "      <th>Date</th>\n",
       "      <th>Sales</th>\n",
       "      <th>Customers</th>\n",
       "      <th>Open</th>\n",
       "      <th>Promo</th>\n",
       "      <th>StateHoliday</th>\n",
       "      <th>SchoolHoliday</th>\n",
       "    </tr>\n",
       "  </thead>\n",
       "  <tbody>\n",
       "    <tr>\n",
       "      <td>0</td>\n",
       "      <td>1</td>\n",
       "      <td>5</td>\n",
       "      <td>2015-07-31</td>\n",
       "      <td>5263</td>\n",
       "      <td>555</td>\n",
       "      <td>1</td>\n",
       "      <td>1</td>\n",
       "      <td>0</td>\n",
       "      <td>1</td>\n",
       "    </tr>\n",
       "    <tr>\n",
       "      <td>1</td>\n",
       "      <td>2</td>\n",
       "      <td>5</td>\n",
       "      <td>2015-07-31</td>\n",
       "      <td>6064</td>\n",
       "      <td>625</td>\n",
       "      <td>1</td>\n",
       "      <td>1</td>\n",
       "      <td>0</td>\n",
       "      <td>1</td>\n",
       "    </tr>\n",
       "    <tr>\n",
       "      <td>2</td>\n",
       "      <td>3</td>\n",
       "      <td>5</td>\n",
       "      <td>2015-07-31</td>\n",
       "      <td>8314</td>\n",
       "      <td>821</td>\n",
       "      <td>1</td>\n",
       "      <td>1</td>\n",
       "      <td>0</td>\n",
       "      <td>1</td>\n",
       "    </tr>\n",
       "    <tr>\n",
       "      <td>3</td>\n",
       "      <td>4</td>\n",
       "      <td>5</td>\n",
       "      <td>2015-07-31</td>\n",
       "      <td>13995</td>\n",
       "      <td>1498</td>\n",
       "      <td>1</td>\n",
       "      <td>1</td>\n",
       "      <td>0</td>\n",
       "      <td>1</td>\n",
       "    </tr>\n",
       "    <tr>\n",
       "      <td>4</td>\n",
       "      <td>5</td>\n",
       "      <td>5</td>\n",
       "      <td>2015-07-31</td>\n",
       "      <td>4822</td>\n",
       "      <td>559</td>\n",
       "      <td>1</td>\n",
       "      <td>1</td>\n",
       "      <td>0</td>\n",
       "      <td>1</td>\n",
       "    </tr>\n",
       "  </tbody>\n",
       "</table>\n",
       "</div>"
      ],
      "text/plain": [
       "   Store  DayOfWeek        Date  Sales  Customers  Open  Promo StateHoliday  \\\n",
       "0      1          5  2015-07-31   5263        555     1      1            0   \n",
       "1      2          5  2015-07-31   6064        625     1      1            0   \n",
       "2      3          5  2015-07-31   8314        821     1      1            0   \n",
       "3      4          5  2015-07-31  13995       1498     1      1            0   \n",
       "4      5          5  2015-07-31   4822        559     1      1            0   \n",
       "\n",
       "   SchoolHoliday  \n",
       "0              1  \n",
       "1              1  \n",
       "2              1  \n",
       "3              1  \n",
       "4              1  "
      ]
     },
     "execution_count": 2,
     "metadata": {},
     "output_type": "execute_result"
    }
   ],
   "source": [
    "import pandas as pd\n",
    "\n",
    "data = pd.read_csv('/home/ada/teacherOn/Ola McCartney/Intermediate ML/datasets/trains.csv')\n",
    "print(data.shape)\n",
    "data.head(5)"
   ]
  },
  {
   "cell_type": "code",
   "execution_count": 3,
   "metadata": {},
   "outputs": [
    {
     "name": "stdout",
     "output_type": "stream",
     "text": [
      "<class 'pandas.core.frame.DataFrame'>\n",
      "RangeIndex: 1017209 entries, 0 to 1017208\n",
      "Data columns (total 9 columns):\n",
      "Store            1017209 non-null int64\n",
      "DayOfWeek        1017209 non-null int64\n",
      "Date             1017209 non-null object\n",
      "Sales            1017209 non-null int64\n",
      "Customers        1017209 non-null int64\n",
      "Open             1017209 non-null int64\n",
      "Promo            1017209 non-null int64\n",
      "StateHoliday     1017209 non-null object\n",
      "SchoolHoliday    1017209 non-null int64\n",
      "dtypes: int64(7), object(2)\n",
      "memory usage: 69.8+ MB\n"
     ]
    }
   ],
   "source": [
    "data.info()"
   ]
  },
  {
   "cell_type": "code",
   "execution_count": 4,
   "metadata": {},
   "outputs": [
    {
     "data": {
      "text/plain": [
       "Store            0\n",
       "DayOfWeek        0\n",
       "Date             0\n",
       "Sales            0\n",
       "Customers        0\n",
       "Open             0\n",
       "Promo            0\n",
       "StateHoliday     0\n",
       "SchoolHoliday    0\n",
       "dtype: int64"
      ]
     },
     "execution_count": 4,
     "metadata": {},
     "output_type": "execute_result"
    }
   ],
   "source": [
    "data.isna().sum()"
   ]
  },
  {
   "cell_type": "code",
   "execution_count": 5,
   "metadata": {},
   "outputs": [],
   "source": [
    "# changing date dtype\n",
    "data['Date'] = pd.to_datetime(data.Date)\n",
    "\n",
    "# extracting variables from date column\n",
    "data['Month'] = data['Date'].dt.month.to_list()\n",
    "data['Year'] = data['Date'].dt.year.to_list()\n",
    "data['Day'] = data['Date'].dt.day.to_list()\n",
    "data['WeekOfYear'] = data['Date'].dt.weekofyear.to_list()\n",
    "data['DayOfWeek'] = data['Date'].dt.dayofweek.to_list()\n",
    "\n",
    "# weekday or not weekday\n",
    "data['weekday'] = 1        # Initialize the column with default value of 1\n",
    "data.loc[data['DayOfWeek'] == 5, 'weekday'] = 0\n",
    "data.loc[data['DayOfWeek'] == 6, 'weekday'] = 0\n",
    "\n",
    "# selection\n",
    "data = data.drop(['Store', 'Date'], axis = 1)\n",
    "data.shape\n",
    "\n",
    "# encoding categorical columns\n",
    "data = pd.get_dummies(data)\n",
    "\n",
    "# scaling/normalization\n",
    "from sklearn.preprocessing import StandardScaler\n",
    "scaler = StandardScaler()\n",
    "scaled = scaler.fit_transform(data)\n",
    "data = pd.DataFrame(scaled, columns = data.columns)"
   ]
  },
  {
   "cell_type": "code",
   "execution_count": 6,
   "metadata": {},
   "outputs": [
    {
     "data": {
      "text/html": [
       "<div>\n",
       "<style scoped>\n",
       "    .dataframe tbody tr th:only-of-type {\n",
       "        vertical-align: middle;\n",
       "    }\n",
       "\n",
       "    .dataframe tbody tr th {\n",
       "        vertical-align: top;\n",
       "    }\n",
       "\n",
       "    .dataframe thead th {\n",
       "        text-align: right;\n",
       "    }\n",
       "</style>\n",
       "<table border=\"1\" class=\"dataframe\">\n",
       "  <thead>\n",
       "    <tr style=\"text-align: right;\">\n",
       "      <th></th>\n",
       "      <th>DayOfWeek</th>\n",
       "      <th>Sales</th>\n",
       "      <th>Customers</th>\n",
       "      <th>Open</th>\n",
       "      <th>Promo</th>\n",
       "      <th>SchoolHoliday</th>\n",
       "      <th>Month</th>\n",
       "      <th>Year</th>\n",
       "      <th>Day</th>\n",
       "      <th>WeekOfYear</th>\n",
       "      <th>weekday</th>\n",
       "      <th>StateHoliday_0</th>\n",
       "      <th>StateHoliday_0</th>\n",
       "      <th>StateHoliday_a</th>\n",
       "      <th>StateHoliday_b</th>\n",
       "      <th>StateHoliday_c</th>\n",
       "    </tr>\n",
       "  </thead>\n",
       "  <tbody>\n",
       "    <tr>\n",
       "      <td>0</td>\n",
       "      <td>0.501484</td>\n",
       "      <td>-0.132683</td>\n",
       "      <td>-0.168269</td>\n",
       "      <td>0.452399</td>\n",
       "      <td>1.273237</td>\n",
       "      <td>2.144211</td>\n",
       "      <td>0.346724</td>\n",
       "      <td>1.502077</td>\n",
       "      <td>1.740766</td>\n",
       "      <td>0.511626</td>\n",
       "      <td>0.630672</td>\n",
       "      <td>-0.384596</td>\n",
       "      <td>0.435427</td>\n",
       "      <td>-0.142555</td>\n",
       "      <td>-0.081366</td>\n",
       "      <td>-0.063616</td>\n",
       "    </tr>\n",
       "    <tr>\n",
       "      <td>1</td>\n",
       "      <td>0.501484</td>\n",
       "      <td>0.075373</td>\n",
       "      <td>-0.017540</td>\n",
       "      <td>0.452399</td>\n",
       "      <td>1.273237</td>\n",
       "      <td>2.144211</td>\n",
       "      <td>0.346724</td>\n",
       "      <td>1.502077</td>\n",
       "      <td>1.740766</td>\n",
       "      <td>0.511626</td>\n",
       "      <td>0.630672</td>\n",
       "      <td>-0.384596</td>\n",
       "      <td>0.435427</td>\n",
       "      <td>-0.142555</td>\n",
       "      <td>-0.081366</td>\n",
       "      <td>-0.063616</td>\n",
       "    </tr>\n",
       "    <tr>\n",
       "      <td>2</td>\n",
       "      <td>0.501484</td>\n",
       "      <td>0.659800</td>\n",
       "      <td>0.404499</td>\n",
       "      <td>0.452399</td>\n",
       "      <td>1.273237</td>\n",
       "      <td>2.144211</td>\n",
       "      <td>0.346724</td>\n",
       "      <td>1.502077</td>\n",
       "      <td>1.740766</td>\n",
       "      <td>0.511626</td>\n",
       "      <td>0.630672</td>\n",
       "      <td>-0.384596</td>\n",
       "      <td>0.435427</td>\n",
       "      <td>-0.142555</td>\n",
       "      <td>-0.081366</td>\n",
       "      <td>-0.063616</td>\n",
       "    </tr>\n",
       "    <tr>\n",
       "      <td>3</td>\n",
       "      <td>0.501484</td>\n",
       "      <td>2.135414</td>\n",
       "      <td>1.862258</td>\n",
       "      <td>0.452399</td>\n",
       "      <td>1.273237</td>\n",
       "      <td>2.144211</td>\n",
       "      <td>0.346724</td>\n",
       "      <td>1.502077</td>\n",
       "      <td>1.740766</td>\n",
       "      <td>0.511626</td>\n",
       "      <td>0.630672</td>\n",
       "      <td>-0.384596</td>\n",
       "      <td>0.435427</td>\n",
       "      <td>-0.142555</td>\n",
       "      <td>-0.081366</td>\n",
       "      <td>-0.063616</td>\n",
       "    </tr>\n",
       "    <tr>\n",
       "      <td>4</td>\n",
       "      <td>0.501484</td>\n",
       "      <td>-0.247231</td>\n",
       "      <td>-0.159656</td>\n",
       "      <td>0.452399</td>\n",
       "      <td>1.273237</td>\n",
       "      <td>2.144211</td>\n",
       "      <td>0.346724</td>\n",
       "      <td>1.502077</td>\n",
       "      <td>1.740766</td>\n",
       "      <td>0.511626</td>\n",
       "      <td>0.630672</td>\n",
       "      <td>-0.384596</td>\n",
       "      <td>0.435427</td>\n",
       "      <td>-0.142555</td>\n",
       "      <td>-0.081366</td>\n",
       "      <td>-0.063616</td>\n",
       "    </tr>\n",
       "  </tbody>\n",
       "</table>\n",
       "</div>"
      ],
      "text/plain": [
       "   DayOfWeek     Sales  Customers      Open     Promo  SchoolHoliday  \\\n",
       "0   0.501484 -0.132683  -0.168269  0.452399  1.273237       2.144211   \n",
       "1   0.501484  0.075373  -0.017540  0.452399  1.273237       2.144211   \n",
       "2   0.501484  0.659800   0.404499  0.452399  1.273237       2.144211   \n",
       "3   0.501484  2.135414   1.862258  0.452399  1.273237       2.144211   \n",
       "4   0.501484 -0.247231  -0.159656  0.452399  1.273237       2.144211   \n",
       "\n",
       "      Month      Year       Day  WeekOfYear   weekday  StateHoliday_0  \\\n",
       "0  0.346724  1.502077  1.740766    0.511626  0.630672       -0.384596   \n",
       "1  0.346724  1.502077  1.740766    0.511626  0.630672       -0.384596   \n",
       "2  0.346724  1.502077  1.740766    0.511626  0.630672       -0.384596   \n",
       "3  0.346724  1.502077  1.740766    0.511626  0.630672       -0.384596   \n",
       "4  0.346724  1.502077  1.740766    0.511626  0.630672       -0.384596   \n",
       "\n",
       "   StateHoliday_0  StateHoliday_a  StateHoliday_b  StateHoliday_c  \n",
       "0        0.435427       -0.142555       -0.081366       -0.063616  \n",
       "1        0.435427       -0.142555       -0.081366       -0.063616  \n",
       "2        0.435427       -0.142555       -0.081366       -0.063616  \n",
       "3        0.435427       -0.142555       -0.081366       -0.063616  \n",
       "4        0.435427       -0.142555       -0.081366       -0.063616  "
      ]
     },
     "execution_count": 6,
     "metadata": {},
     "output_type": "execute_result"
    }
   ],
   "source": [
    "data.head()"
   ]
  },
  {
   "cell_type": "code",
   "execution_count": 8,
   "metadata": {},
   "outputs": [
    {
     "data": {
      "text/plain": [
       "((712046, 15), (712046, 1), (305163, 15), (305163, 1))"
      ]
     },
     "execution_count": 8,
     "metadata": {},
     "output_type": "execute_result"
    }
   ],
   "source": [
    "# seperating data set into dependent and independent variables\n",
    "x = data.drop(['Sales'], axis = 1)\n",
    "y = data[['Sales']]\n",
    "\n",
    "##splitting data set to train and test sets\n",
    "from sklearn.model_selection import train_test_split\n",
    "\n",
    "x_train, x_test, y_train, y_test = train_test_split(x, y, test_size = .3)\n",
    "x_train.shape, y_train.shape, x_test.shape, y_test.shape"
   ]
  },
  {
   "cell_type": "code",
   "execution_count": 9,
   "metadata": {},
   "outputs": [
    {
     "name": "stdout",
     "output_type": "stream",
     "text": [
      "(305163, 1)\n"
     ]
    },
    {
     "data": {
      "text/plain": [
       "array([[ 0.10934629],\n",
       "       [-1.26727961],\n",
       "       [-1.55584918],\n",
       "       [-1.56928502],\n",
       "       [-0.18615351]])"
      ]
     },
     "execution_count": 9,
     "metadata": {},
     "output_type": "execute_result"
    }
   ],
   "source": [
    "# straight-forward modeling\n",
    "from sklearn.linear_model import LinearRegression\n",
    "\n",
    "# creating our model\n",
    "regressor = LinearRegression()\n",
    "\n",
    "# model training/fitting\n",
    "regressor = regressor.fit(x_train, y_train)\n",
    "\n",
    "# running predictions\n",
    "y_pred = regressor.predict(x_test)\n",
    "print(y_pred.shape)\n",
    "y_pred[:5]"
   ]
  },
  {
   "cell_type": "code",
   "execution_count": null,
   "metadata": {},
   "outputs": [],
   "source": [
    "# evaluation"
   ]
  },
  {
   "cell_type": "markdown",
   "metadata": {},
   "source": [
    "#### Cross Validation\n",
    "> Cross-validation is a resampling procedure used to evaluate machine learning models on a limited data sample. \n",
    "\n",
    "<img src = \"data:image/png;base64,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\">"
   ]
  },
  {
   "cell_type": "code",
   "execution_count": 10,
   "metadata": {},
   "outputs": [
    {
     "data": {
      "text/plain": [
       "dict_keys(['explained_variance', 'r2', 'max_error', 'neg_median_absolute_error', 'neg_mean_absolute_error', 'neg_mean_squared_error', 'neg_mean_squared_log_error', 'neg_root_mean_squared_error', 'neg_mean_poisson_deviance', 'neg_mean_gamma_deviance', 'accuracy', 'roc_auc', 'roc_auc_ovr', 'roc_auc_ovo', 'roc_auc_ovr_weighted', 'roc_auc_ovo_weighted', 'balanced_accuracy', 'average_precision', 'neg_log_loss', 'neg_brier_score', 'adjusted_rand_score', 'homogeneity_score', 'completeness_score', 'v_measure_score', 'mutual_info_score', 'adjusted_mutual_info_score', 'normalized_mutual_info_score', 'fowlkes_mallows_score', 'precision', 'precision_macro', 'precision_micro', 'precision_samples', 'precision_weighted', 'recall', 'recall_macro', 'recall_micro', 'recall_samples', 'recall_weighted', 'f1', 'f1_macro', 'f1_micro', 'f1_samples', 'f1_weighted', 'jaccard', 'jaccard_macro', 'jaccard_micro', 'jaccard_samples', 'jaccard_weighted'])"
      ]
     },
     "execution_count": 10,
     "metadata": {},
     "output_type": "execute_result"
    }
   ],
   "source": [
    "import sklearn\n",
    "sklearn.metrics.SCORERS.keys()"
   ]
  },
  {
   "cell_type": "code",
   "execution_count": 14,
   "metadata": {},
   "outputs": [
    {
     "data": {
      "text/plain": [
       "array([0.25479797, 0.25518133, 0.25556177, 0.25499906])"
      ]
     },
     "execution_count": 14,
     "metadata": {},
     "output_type": "execute_result"
    }
   ],
   "source": [
    "# use of cross validation (kfolds)\n",
    "from sklearn.model_selection import cross_val_score\n",
    "from sklearn.model_selection import KFold\n",
    "\n",
    "model = LinearRegression()\n",
    "# create a KFold object with 7 splits \n",
    "folds = KFold(n_splits = 4, shuffle = True, random_state = 0)\n",
    "scores = -1 * cross_val_score(model, x_train, y_train, scoring='neg_mean_absolute_error', cv=folds)\n",
    "scores   "
   ]
  },
  {
   "cell_type": "code",
   "execution_count": null,
   "metadata": {},
   "outputs": [],
   "source": []
  },
  {
   "cell_type": "code",
   "execution_count": null,
   "metadata": {},
   "outputs": [],
   "source": []
  },
  {
   "cell_type": "code",
   "execution_count": null,
   "metadata": {},
   "outputs": [],
   "source": []
  },
  {
   "cell_type": "markdown",
   "metadata": {},
   "source": [
    "#### Decision Trees Regressors\n",
    "\n",
    "> Decision tree builds classification or regression models in the form of a tree structure. It breaks down a data set into smaller and smaller subsets while at the same time an associated decision tree is incrementally developed. The final result is a tree with decision nodes and leaf nodes. A **decision node** has two or more branches. **Leaf node** represents a classification or decision. The topmost decision node in a tree which corresponds to the best predictor called **root node**. Decision trees can handle both categorical and numerical data.\n",
    "\n",
    "<img src = \"https://miro.medium.com/max/410/1*JAEY3KP7TU2Q6HN6LasMrw.png\">\n",
    "\n",
    "> parameters:\n",
    "* ...\n",
    "* criterion - “mse”, “friedman_mse”, “mae”; default=”mse” (measure to measure quality of split).\n",
    "* splitter - “best”, “random”, default=”best”; (strategy used to choose split at each node).\n",
    "* max_depth - default = NOne; how deep should the tree be splitted.\n",
    "* min_samples_split - The minimum number of samples required to split an internal node."
   ]
  },
  {
   "cell_type": "code",
   "execution_count": 59,
   "metadata": {},
   "outputs": [
    {
     "data": {
      "text/plain": [
       "array([0.30352325, 0.30551269, 0.30407528, 0.30470512, 0.30219021,\n",
       "       0.30423503, 0.30352589])"
      ]
     },
     "execution_count": 59,
     "metadata": {},
     "output_type": "execute_result"
    }
   ],
   "source": [
    "from sklearn.tree import DecisionTreeRegressor\n",
    "\n",
    "model = DecisionTreeRegressor(random_state = 42)\n",
    "# create a KFold object with 7 splits \n",
    "folds = KFold(n_splits = 7, shuffle = True, random_state = 42)\n",
    "scores = -1 * cross_val_score(model, x_train, y_train, scoring='neg_mean_absolute_error', cv=folds)\n",
    "scores  \n",
    "model.predict()"
   ]
  },
  {
   "cell_type": "code",
   "execution_count": null,
   "metadata": {},
   "outputs": [],
   "source": []
  },
  {
   "cell_type": "markdown",
   "metadata": {},
   "source": [
    "#### Naive Bayes Regressors"
   ]
  },
  {
   "cell_type": "code",
   "execution_count": null,
   "metadata": {},
   "outputs": [],
   "source": []
  },
  {
   "cell_type": "code",
   "execution_count": null,
   "metadata": {},
   "outputs": [],
   "source": []
  },
  {
   "cell_type": "markdown",
   "metadata": {},
   "source": [
    "#### Gradient Boosting Regressors"
   ]
  },
  {
   "cell_type": "code",
   "execution_count": null,
   "metadata": {},
   "outputs": [],
   "source": []
  },
  {
   "cell_type": "code",
   "execution_count": null,
   "metadata": {},
   "outputs": [],
   "source": []
  },
  {
   "cell_type": "markdown",
   "metadata": {},
   "source": [
    "#### SVM Regressors"
   ]
  },
  {
   "cell_type": "code",
   "execution_count": null,
   "metadata": {},
   "outputs": [],
   "source": []
  },
  {
   "cell_type": "code",
   "execution_count": null,
   "metadata": {},
   "outputs": [],
   "source": []
  },
  {
   "cell_type": "markdown",
   "metadata": {},
   "source": [
    "### Model Evaluation (Loss Functions)"
   ]
  },
  {
   "cell_type": "code",
   "execution_count": null,
   "metadata": {},
   "outputs": [],
   "source": []
  },
  {
   "cell_type": "code",
   "execution_count": null,
   "metadata": {},
   "outputs": [],
   "source": []
  },
  {
   "cell_type": "code",
   "execution_count": null,
   "metadata": {},
   "outputs": [],
   "source": []
  }
 ],
 "metadata": {
  "kernelspec": {
   "display_name": "Python 3",
   "language": "python",
   "name": "python3"
  },
  "language_info": {
   "codemirror_mode": {
    "name": "ipython",
    "version": 3
   },
   "file_extension": ".py",
   "mimetype": "text/x-python",
   "name": "python",
   "nbconvert_exporter": "python",
   "pygments_lexer": "ipython3",
   "version": "3.7.4"
  }
 },
 "nbformat": 4,
 "nbformat_minor": 4
}
