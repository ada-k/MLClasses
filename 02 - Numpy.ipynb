{
 "cells": [
  {
   "cell_type": "markdown",
   "metadata": {},
   "source": [
    "## Numpy Operations (Basics)"
   ]
  },
  {
   "cell_type": "code",
   "execution_count": 1,
   "metadata": {},
   "outputs": [
    {
     "data": {
      "text/plain": [
       "'Installation'"
      ]
     },
     "execution_count": 1,
     "metadata": {},
     "output_type": "execute_result"
    }
   ],
   "source": [
    "'''Installation'''\n",
    "\n",
    "# !pip install numpy\n",
    "# !conda install numpy"
   ]
  },
  {
   "cell_type": "code",
   "execution_count": 2,
   "metadata": {},
   "outputs": [],
   "source": [
    "# importing\n",
    "import numpy as np"
   ]
  },
  {
   "cell_type": "markdown",
   "metadata": {},
   "source": [
    "### Numpy Arrays"
   ]
  },
  {
   "cell_type": "code",
   "execution_count": 22,
   "metadata": {},
   "outputs": [
    {
     "name": "stdout",
     "output_type": "stream",
     "text": [
      "basic 1D array [0 1 2 4 5 6] \n",
      "\n",
      " array of zeros\n",
      " [[0 0]\n",
      " [0 0]\n",
      " [0 0]\n",
      " [0 0]] \n",
      "\n",
      " array of ones \n",
      " [[1. 1. 1.]\n",
      " [1. 1. 1.]\n",
      " [1. 1. 1.]] \n",
      "\n",
      " randomly generated array\n",
      " [[0.63837491 0.06592208 0.80520723]\n",
      " [0.76796878 0.42351362 0.01569701]] \n",
      "\n",
      " array of same value\n",
      " [[7 7]\n",
      " [7 7]] \n",
      "\n",
      "identity matrix\n",
      " [[1. 0. 0. 0.]\n",
      " [0. 1. 0. 0.]\n",
      " [0. 0. 1. 0.]\n",
      " [0. 0. 0. 1.]] \n",
      "\n",
      " array generated using range function\n",
      " [0 3 6 9]\n"
     ]
    }
   ],
   "source": [
    "# basic 1Darrays\n",
    "a = np.array([0,1,2,4,5,6])\n",
    "\n",
    "# array of 0s\n",
    "b = np.zeros((4,2), dtype = np.int32)\n",
    "\n",
    "# array of 1s\n",
    "c = np.ones((3,3))\n",
    "\n",
    "# array of randomly generated numbers\n",
    "d = np.random.rand(2,3)\n",
    "\n",
    "# nD array\n",
    "e = np.full((2,2), 7)\n",
    "\n",
    "# identity matrix array\n",
    "f = np.eye(4)\n",
    "\n",
    "#evenly spaced arrays (like python range function - start, stop, step)\n",
    "g = np.arange(0, 10, 3)\n",
    "\n",
    "print('basic 1D array', a, '\\n\\n array of zeros\\n', b, '\\n\\n array of ones \\n', c, '\\n\\n randomly generated array\\n', \n",
    "      d,'\\n\\n array of same value\\n',  e, '\\n\\nidentity matrix\\n', f,'\\n\\n array generated using range function\\n',  g)"
   ]
  },
  {
   "cell_type": "code",
   "execution_count": 67,
   "metadata": {},
   "outputs": [
    {
     "data": {
      "text/plain": [
       "array([0, 1, 2, 3, 4, 5, 6, 7, 8, 9])"
      ]
     },
     "execution_count": 67,
     "metadata": {},
     "output_type": "execute_result"
    }
   ],
   "source": [
    "np.arange(10)"
   ]
  },
  {
   "cell_type": "markdown",
   "metadata": {},
   "source": [
    "### Array Shape and Reshaping"
   ]
  },
  {
   "cell_type": "code",
   "execution_count": 30,
   "metadata": {},
   "outputs": [
    {
     "name": "stdout",
     "output_type": "stream",
     "text": [
      "the shape of the randomly generated array is: (2, 3), 2 rows, 3 columns\n",
      "the size of the randomly generated array is: 6\n"
     ]
    }
   ],
   "source": [
    "# shape and size\n",
    "print(f'the shape of the randomly generated array is: {d.shape}, {d.shape[0]} rows, {d.shape[1]} columns')\n",
    "print(f'the size of the randomly generated array is: {d.size}')"
   ]
  },
  {
   "cell_type": "code",
   "execution_count": 75,
   "metadata": {},
   "outputs": [
    {
     "data": {
      "text/plain": [
       "array([[0.63837491, 0.06592208],\n",
       "       [0.80520723, 0.76796878],\n",
       "       [0.42351362, 0.01569701]])"
      ]
     },
     "execution_count": 75,
     "metadata": {},
     "output_type": "execute_result"
    }
   ],
   "source": [
    "# reshaping\n",
    "d.reshape((3,2), order = 'C')"
   ]
  },
  {
   "cell_type": "markdown",
   "metadata": {},
   "source": [
    "### Indexing and Slicing"
   ]
  },
  {
   "cell_type": "code",
   "execution_count": 54,
   "metadata": {},
   "outputs": [
    {
     "data": {
      "text/plain": [
       "array([0.76796878, 0.42351362, 0.01569701])"
      ]
     },
     "execution_count": 54,
     "metadata": {},
     "output_type": "execute_result"
    }
   ],
   "source": [
    "d[0] # first row only\n",
    "d[-1] # last row only"
   ]
  },
  {
   "cell_type": "markdown",
   "metadata": {},
   "source": [
    "### Operations"
   ]
  },
  {
   "cell_type": "code",
   "execution_count": 80,
   "metadata": {},
   "outputs": [
    {
     "name": "stdout",
     "output_type": "stream",
     "text": [
      "[[7 7]\n",
      " [7 7]]\n",
      "[[-1 -1]\n",
      " [-1 -1]]\n",
      "[[12 12]\n",
      " [12 12]]\n",
      "[[0.75 0.75]\n",
      " [0.75 0.75]]\n",
      "[8 8]\n",
      "............\n",
      "[8 8]\n"
     ]
    }
   ],
   "source": [
    "a = np.full((2,2), 3)\n",
    "b = np.full((2,2), 4)\n",
    "\n",
    "#  adding 2 arrays\n",
    "print(a+b)\n",
    "print(a-b)\n",
    "print(a*b) # multiplying 2 arrays\n",
    "print(a/b) # division between 2 arrays\n",
    "\n",
    "# summing elements of an array: rowwise & column wise\n",
    "print(b.sum(axis=0))\n",
    "print('............')\n",
    "print(b.sum(axis=1))\n"
   ]
  },
  {
   "cell_type": "code",
   "execution_count": 81,
   "metadata": {},
   "outputs": [
    {
     "name": "stdout",
     "output_type": "stream",
     "text": [
      "[[12 12]\n",
      " [12 12]]\n",
      "[[2. 2.]\n",
      " [2. 2.]]\n"
     ]
    }
   ],
   "source": [
    "# broadcasting\n",
    "print(b*3)\n",
    "print(b/2)"
   ]
  },
  {
   "cell_type": "code",
   "execution_count": null,
   "metadata": {},
   "outputs": [],
   "source": []
  }
 ],
 "metadata": {
  "kernelspec": {
   "display_name": "Python 3",
   "language": "python",
   "name": "python3"
  },
  "language_info": {
   "codemirror_mode": {
    "name": "ipython",
    "version": 3
   },
   "file_extension": ".py",
   "mimetype": "text/x-python",
   "name": "python",
   "nbconvert_exporter": "python",
   "pygments_lexer": "ipython3",
   "version": "3.7.4"
  }
 },
 "nbformat": 4,
 "nbformat_minor": 4
}
